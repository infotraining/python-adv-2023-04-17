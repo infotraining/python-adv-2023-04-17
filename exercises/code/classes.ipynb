{
 "cells": [
  {
   "attachments": {},
   "cell_type": "markdown",
   "metadata": {},
   "source": [
    "# Klasy"
   ]
  },
  {
   "cell_type": "code",
   "execution_count": 23,
   "metadata": {},
   "outputs": [],
   "source": [
    "class Gadget:\n",
    "    def __init__(self, id: int, name: str) -> None:\n",
    "        self.id = id\n",
    "        self.name = name\n",
    "    \n",
    "    def use(self) -> None:\n",
    "        print(f\"Using {self.name} with Id#{self.id}\")    \n",
    "        self.use_count = 1\n",
    "\n",
    "    def __repr__(self) -> str:\n",
    "        return repr(self.__dict__)\n",
    "        \n",
    "    \n",
    "    def __str__(self) -> str:\n",
    "        return f\"Gadget({self.id}, {self.name})\""
   ]
  },
  {
   "cell_type": "code",
   "execution_count": 24,
   "metadata": {},
   "outputs": [
    {
     "name": "stdout",
     "output_type": "stream",
     "text": [
      "Using ipad with Id#1\n"
     ]
    }
   ],
   "source": [
    "my_gadget = Gadget(1, \"ipad\")\n",
    "my_gadget.use()"
   ]
  },
  {
   "cell_type": "code",
   "execution_count": 25,
   "metadata": {},
   "outputs": [
    {
     "data": {
      "text/plain": [
       "{'id': 1, 'name': 'ipad', 'use_count': 1}"
      ]
     },
     "execution_count": 25,
     "metadata": {},
     "output_type": "execute_result"
    }
   ],
   "source": [
    "my_gadget"
   ]
  },
  {
   "cell_type": "code",
   "execution_count": 19,
   "metadata": {},
   "outputs": [
    {
     "data": {
      "text/plain": [
       "Gadget(id=1, name='ipad')"
      ]
     },
     "execution_count": 19,
     "metadata": {},
     "output_type": "execute_result"
    }
   ],
   "source": [
    "eval(repr(my_gadget))"
   ]
  },
  {
   "cell_type": "code",
   "execution_count": 20,
   "metadata": {},
   "outputs": [
    {
     "name": "stdout",
     "output_type": "stream",
     "text": [
      "Gadget(1, ipad)\n"
     ]
    }
   ],
   "source": [
    "print(my_gadget)"
   ]
  },
  {
   "cell_type": "code",
   "execution_count": 22,
   "metadata": {},
   "outputs": [
    {
     "data": {
      "text/plain": [
       "Gadget(id=1, name='ipad')"
      ]
     },
     "execution_count": 22,
     "metadata": {},
     "output_type": "execute_result"
    }
   ],
   "source": [
    "my_gadget"
   ]
  },
  {
   "attachments": {},
   "cell_type": "markdown",
   "metadata": {},
   "source": [
    "## Metody `__new__` i `__init__`"
   ]
  },
  {
   "cell_type": "code",
   "execution_count": 26,
   "metadata": {},
   "outputs": [],
   "source": [
    "class Dummy:\n",
    "    def __new__(cls, *args):\n",
    "        print(f\"Dummy.__new__({cls}, {args}) has been called...\")\n",
    "        obj = super().__new__(cls)\n",
    "        obj.extra_attribute = \"extra\"\n",
    "        print(f\"Object {obj} has been created...\")\n",
    "        return obj\n",
    "    \n",
    "    def __init__(self, *args):\n",
    "        print(f\"Dummy.__init__({self}, {args})...\")\n",
    "        self.args = args\n",
    "        print(f\"Object's __dict__: {self.__dict__}\")\n"
   ]
  },
  {
   "cell_type": "code",
   "execution_count": 27,
   "metadata": {},
   "outputs": [
    {
     "name": "stdout",
     "output_type": "stream",
     "text": [
      "Dummy.__new__(<class '__main__.Dummy'>, (1, 'two')) has been called...\n",
      "Object <__main__.Dummy object at 0x0000024297785850> has been created...\n",
      "Dummy.__init__(<__main__.Dummy object at 0x0000024297785850>, (1, 'two'))...\n",
      "Object's __dict__: {'extra_attribute': 'extra', 'args': (1, 'two')}\n"
     ]
    }
   ],
   "source": [
    "d = Dummy(1, \"two\")"
   ]
  },
  {
   "attachments": {},
   "cell_type": "markdown",
   "metadata": {},
   "source": [
    "## Kiedy używamy `__new__`?"
   ]
  },
  {
   "cell_type": "code",
   "execution_count": 28,
   "metadata": {},
   "outputs": [],
   "source": [
    "class UppercaseTuple(tuple):\n",
    "    def __init__(self, list) -> None:\n",
    "        print(f\"Start changes for {list}\")\n",
    "        for i, item in enumerate(list):\n",
    "            self[i] = item.upper()\n"
   ]
  },
  {
   "cell_type": "code",
   "execution_count": 29,
   "metadata": {},
   "outputs": [
    {
     "name": "stdout",
     "output_type": "stream",
     "text": [
      "Start changes for ['hello', 'world']\n"
     ]
    },
    {
     "ename": "TypeError",
     "evalue": "'UppercaseTuple' object does not support item assignment",
     "output_type": "error",
     "traceback": [
      "\u001b[1;31m---------------------------------------------------------------------------\u001b[0m",
      "\u001b[1;31mTypeError\u001b[0m                                 Traceback (most recent call last)",
      "Cell \u001b[1;32mIn[29], line 1\u001b[0m\n\u001b[1;32m----> 1\u001b[0m UppercaseTuple([\u001b[39m\"\u001b[39;49m\u001b[39mhello\u001b[39;49m\u001b[39m\"\u001b[39;49m, \u001b[39m\"\u001b[39;49m\u001b[39mworld\u001b[39;49m\u001b[39m\"\u001b[39;49m])\n",
      "Cell \u001b[1;32mIn[28], line 5\u001b[0m, in \u001b[0;36mUppercaseTuple.__init__\u001b[1;34m(self, list)\u001b[0m\n\u001b[0;32m      3\u001b[0m \u001b[39mprint\u001b[39m(\u001b[39mf\u001b[39m\u001b[39m\"\u001b[39m\u001b[39mStart changes for \u001b[39m\u001b[39m{\u001b[39;00m\u001b[39mlist\u001b[39m\u001b[39m}\u001b[39;00m\u001b[39m\"\u001b[39m)\n\u001b[0;32m      4\u001b[0m \u001b[39mfor\u001b[39;00m i, item \u001b[39min\u001b[39;00m \u001b[39menumerate\u001b[39m(\u001b[39mlist\u001b[39m):\n\u001b[1;32m----> 5\u001b[0m     \u001b[39mself\u001b[39;49m[i] \u001b[39m=\u001b[39m item\u001b[39m.\u001b[39mupper()\n",
      "\u001b[1;31mTypeError\u001b[0m: 'UppercaseTuple' object does not support item assignment"
     ]
    }
   ],
   "source": [
    "UppercaseTuple([\"hello\", \"world\"])"
   ]
  },
  {
   "cell_type": "code",
   "execution_count": 39,
   "metadata": {},
   "outputs": [],
   "source": [
    "class UppercaseTuple(tuple):\n",
    "    def __new__(cls, list):\n",
    "        print(f\"Start changes for {list}\")\n",
    "        obj = super().__new__(cls, list)\n",
    "        obj.uppers = tuple([item.upper() for item in list])\n",
    "        return obj"
   ]
  },
  {
   "cell_type": "code",
   "execution_count": 40,
   "metadata": {},
   "outputs": [
    {
     "name": "stdout",
     "output_type": "stream",
     "text": [
      "Start changes for ['hello', 'world']\n"
     ]
    }
   ],
   "source": [
    "ut = UppercaseTuple([\"hello\", \"world\"])"
   ]
  },
  {
   "cell_type": "code",
   "execution_count": 41,
   "metadata": {},
   "outputs": [
    {
     "data": {
      "text/plain": [
       "('hello', 'world')"
      ]
     },
     "execution_count": 41,
     "metadata": {},
     "output_type": "execute_result"
    }
   ],
   "source": [
    "ut"
   ]
  },
  {
   "cell_type": "code",
   "execution_count": 42,
   "metadata": {},
   "outputs": [
    {
     "data": {
      "text/plain": [
       "('HELLO', 'WORLD')"
      ]
     },
     "execution_count": 42,
     "metadata": {},
     "output_type": "execute_result"
    }
   ],
   "source": [
    "ut.uppers"
   ]
  }
 ],
 "metadata": {
  "kernelspec": {
   "display_name": ".venv",
   "language": "python",
   "name": "python3"
  },
  "language_info": {
   "codemirror_mode": {
    "name": "ipython",
    "version": 3
   },
   "file_extension": ".py",
   "mimetype": "text/x-python",
   "name": "python",
   "nbconvert_exporter": "python",
   "pygments_lexer": "ipython3",
   "version": "3.11.2"
  },
  "orig_nbformat": 4
 },
 "nbformat": 4,
 "nbformat_minor": 2
}
