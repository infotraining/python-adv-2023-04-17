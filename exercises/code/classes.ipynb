{
 "cells": [
  {
   "attachments": {},
   "cell_type": "markdown",
   "metadata": {},
   "source": [
    "# Klasy"
   ]
  },
  {
   "cell_type": "code",
   "execution_count": 23,
   "metadata": {},
   "outputs": [],
   "source": [
    "class Gadget:\n",
    "    def __init__(self, id: int, name: str) -> None:\n",
    "        self.id = id\n",
    "        self.name = name\n",
    "    \n",
    "    def use(self) -> None:\n",
    "        print(f\"Using {self.name} with Id#{self.id}\")    \n",
    "        self.use_count = 1\n",
    "\n",
    "    def __repr__(self) -> str:\n",
    "        return repr(self.__dict__)\n",
    "        \n",
    "    \n",
    "    def __str__(self) -> str:\n",
    "        return f\"Gadget({self.id}, {self.name})\""
   ]
  },
  {
   "cell_type": "code",
   "execution_count": 24,
   "metadata": {},
   "outputs": [
    {
     "name": "stdout",
     "output_type": "stream",
     "text": [
      "Using ipad with Id#1\n"
     ]
    }
   ],
   "source": [
    "my_gadget = Gadget(1, \"ipad\")\n",
    "my_gadget.use()"
   ]
  },
  {
   "cell_type": "code",
   "execution_count": 25,
   "metadata": {},
   "outputs": [
    {
     "data": {
      "text/plain": [
       "{'id': 1, 'name': 'ipad', 'use_count': 1}"
      ]
     },
     "execution_count": 25,
     "metadata": {},
     "output_type": "execute_result"
    }
   ],
   "source": [
    "my_gadget"
   ]
  },
  {
   "cell_type": "code",
   "execution_count": 19,
   "metadata": {},
   "outputs": [
    {
     "data": {
      "text/plain": [
       "Gadget(id=1, name='ipad')"
      ]
     },
     "execution_count": 19,
     "metadata": {},
     "output_type": "execute_result"
    }
   ],
   "source": [
    "eval(repr(my_gadget))"
   ]
  },
  {
   "cell_type": "code",
   "execution_count": 20,
   "metadata": {},
   "outputs": [
    {
     "name": "stdout",
     "output_type": "stream",
     "text": [
      "Gadget(1, ipad)\n"
     ]
    }
   ],
   "source": [
    "print(my_gadget)"
   ]
  },
  {
   "cell_type": "code",
   "execution_count": 22,
   "metadata": {},
   "outputs": [
    {
     "data": {
      "text/plain": [
       "Gadget(id=1, name='ipad')"
      ]
     },
     "execution_count": 22,
     "metadata": {},
     "output_type": "execute_result"
    }
   ],
   "source": [
    "my_gadget"
   ]
  },
  {
   "attachments": {},
   "cell_type": "markdown",
   "metadata": {},
   "source": [
    "## Metody `__new__` i `__init__`"
   ]
  },
  {
   "cell_type": "code",
   "execution_count": 26,
   "metadata": {},
   "outputs": [],
   "source": [
    "class Dummy:\n",
    "    def __new__(cls, *args):\n",
    "        print(f\"Dummy.__new__({cls}, {args}) has been called...\")\n",
    "        obj = super().__new__(cls)\n",
    "        obj.extra_attribute = \"extra\"\n",
    "        print(f\"Object {obj} has been created...\")\n",
    "        return obj\n",
    "    \n",
    "    def __init__(self, *args):\n",
    "        print(f\"Dummy.__init__({self}, {args})...\")\n",
    "        self.args = args\n",
    "        print(f\"Object's __dict__: {self.__dict__}\")\n"
   ]
  },
  {
   "cell_type": "code",
   "execution_count": 27,
   "metadata": {},
   "outputs": [
    {
     "name": "stdout",
     "output_type": "stream",
     "text": [
      "Dummy.__new__(<class '__main__.Dummy'>, (1, 'two')) has been called...\n",
      "Object <__main__.Dummy object at 0x0000024297785850> has been created...\n",
      "Dummy.__init__(<__main__.Dummy object at 0x0000024297785850>, (1, 'two'))...\n",
      "Object's __dict__: {'extra_attribute': 'extra', 'args': (1, 'two')}\n"
     ]
    }
   ],
   "source": [
    "d = Dummy(1, \"two\")"
   ]
  },
  {
   "attachments": {},
   "cell_type": "markdown",
   "metadata": {},
   "source": [
    "## Kiedy używamy `__new__`?"
   ]
  },
  {
   "cell_type": "code",
   "execution_count": 28,
   "metadata": {},
   "outputs": [],
   "source": [
    "class UppercaseTuple(tuple):\n",
    "    def __init__(self, list) -> None:\n",
    "        print(f\"Start changes for {list}\")\n",
    "        for i, item in enumerate(list):\n",
    "            self[i] = item.upper()\n"
   ]
  },
  {
   "cell_type": "code",
   "execution_count": 29,
   "metadata": {},
   "outputs": [
    {
     "name": "stdout",
     "output_type": "stream",
     "text": [
      "Start changes for ['hello', 'world']\n"
     ]
    },
    {
     "ename": "TypeError",
     "evalue": "'UppercaseTuple' object does not support item assignment",
     "output_type": "error",
     "traceback": [
      "\u001b[1;31m---------------------------------------------------------------------------\u001b[0m",
      "\u001b[1;31mTypeError\u001b[0m                                 Traceback (most recent call last)",
      "Cell \u001b[1;32mIn[29], line 1\u001b[0m\n\u001b[1;32m----> 1\u001b[0m UppercaseTuple([\u001b[39m\"\u001b[39;49m\u001b[39mhello\u001b[39;49m\u001b[39m\"\u001b[39;49m, \u001b[39m\"\u001b[39;49m\u001b[39mworld\u001b[39;49m\u001b[39m\"\u001b[39;49m])\n",
      "Cell \u001b[1;32mIn[28], line 5\u001b[0m, in \u001b[0;36mUppercaseTuple.__init__\u001b[1;34m(self, list)\u001b[0m\n\u001b[0;32m      3\u001b[0m \u001b[39mprint\u001b[39m(\u001b[39mf\u001b[39m\u001b[39m\"\u001b[39m\u001b[39mStart changes for \u001b[39m\u001b[39m{\u001b[39;00m\u001b[39mlist\u001b[39m\u001b[39m}\u001b[39;00m\u001b[39m\"\u001b[39m)\n\u001b[0;32m      4\u001b[0m \u001b[39mfor\u001b[39;00m i, item \u001b[39min\u001b[39;00m \u001b[39menumerate\u001b[39m(\u001b[39mlist\u001b[39m):\n\u001b[1;32m----> 5\u001b[0m     \u001b[39mself\u001b[39;49m[i] \u001b[39m=\u001b[39m item\u001b[39m.\u001b[39mupper()\n",
      "\u001b[1;31mTypeError\u001b[0m: 'UppercaseTuple' object does not support item assignment"
     ]
    }
   ],
   "source": [
    "UppercaseTuple([\"hello\", \"world\"])"
   ]
  },
  {
   "cell_type": "code",
   "execution_count": 46,
   "metadata": {},
   "outputs": [],
   "source": [
    "class UppercaseTuple(tuple):\n",
    "    def __new__(cls, list):\n",
    "        print(f\"Start changes for {list}\")\n",
    "        new_content = [item.upper() for item in list]       \n",
    "        return super().__new__(cls, new_content)"
   ]
  },
  {
   "cell_type": "code",
   "execution_count": 47,
   "metadata": {},
   "outputs": [
    {
     "name": "stdout",
     "output_type": "stream",
     "text": [
      "Start changes for ['hello', 'world']\n"
     ]
    }
   ],
   "source": [
    "ut = UppercaseTuple([\"hello\", \"world\"])"
   ]
  },
  {
   "cell_type": "code",
   "execution_count": 48,
   "metadata": {},
   "outputs": [
    {
     "data": {
      "text/plain": [
       "('HELLO', 'WORLD')"
      ]
     },
     "execution_count": 48,
     "metadata": {},
     "output_type": "execute_result"
    }
   ],
   "source": [
    "ut"
   ]
  },
  {
   "attachments": {},
   "cell_type": "markdown",
   "metadata": {},
   "source": [
    "## `__getattr__` , `__setattr__` & `__delattr__`"
   ]
  },
  {
   "cell_type": "code",
   "execution_count": 59,
   "metadata": {},
   "outputs": [],
   "source": [
    "class Record:\n",
    "\n",
    "    def __init__(self):\n",
    "        # Nie możemy użyć poniższego kodu:\n",
    "        #     self._d = {}\n",
    "        # ponieważ zakończyłby się on rekurencyjnym wywoływaniem metody __setattr__\n",
    "        super().__setattr__('_dict', {})\n",
    "\n",
    "    def __getattr__(self, name):\n",
    "        print('getting', name)\n",
    "        return self._dict[name]\n",
    "    \n",
    "    def __setattr__(self, name, value):\n",
    "        print('setting', name, 'to', value)\n",
    "        self._dict[name] = value\n",
    "        \n",
    "    def __delattr__(self, name):\n",
    "        print('deleting', name)\n",
    "        del self._dict[name]"
   ]
  },
  {
   "cell_type": "code",
   "execution_count": 60,
   "metadata": {},
   "outputs": [],
   "source": [
    "r1 = Record()"
   ]
  },
  {
   "cell_type": "code",
   "execution_count": 61,
   "metadata": {},
   "outputs": [],
   "source": [
    "r1.first_name = 'John'"
   ]
  },
  {
   "cell_type": "code",
   "execution_count": 62,
   "metadata": {},
   "outputs": [
    {
     "data": {
      "text/plain": [
       "{'first_name': 'John'}"
      ]
     },
     "execution_count": 62,
     "metadata": {},
     "output_type": "execute_result"
    }
   ],
   "source": [
    "r1.__dict__"
   ]
  },
  {
   "cell_type": "code",
   "execution_count": 52,
   "metadata": {},
   "outputs": [
    {
     "name": "stdout",
     "output_type": "stream",
     "text": [
      "getting first_name\n"
     ]
    },
    {
     "data": {
      "text/plain": [
       "'John'"
      ]
     },
     "execution_count": 52,
     "metadata": {},
     "output_type": "execute_result"
    }
   ],
   "source": [
    "r1.first_name"
   ]
  },
  {
   "cell_type": "code",
   "execution_count": 53,
   "metadata": {},
   "outputs": [
    {
     "name": "stdout",
     "output_type": "stream",
     "text": [
      "getting first_name\n",
      "setting first_name to John F.\n"
     ]
    }
   ],
   "source": [
    "r1.first_name += ' F.'"
   ]
  },
  {
   "cell_type": "code",
   "execution_count": 54,
   "metadata": {},
   "outputs": [
    {
     "name": "stdout",
     "output_type": "stream",
     "text": [
      "deleting first_name\n"
     ]
    }
   ],
   "source": [
    "del r1.first_name"
   ]
  },
  {
   "attachments": {},
   "cell_type": "markdown",
   "metadata": {},
   "source": [
    "## `__getattribute__`"
   ]
  },
  {
   "cell_type": "code",
   "execution_count": 63,
   "metadata": {},
   "outputs": [],
   "source": [
    "class Person:\n",
    "    def __init__(self, first_name):\n",
    "        self.first_name = first_name\n",
    "    \n",
    "    def __getattribute__(self, name):\n",
    "        print('getattribute', name)\n",
    "        return object.__getattribute__(self, name)"
   ]
  },
  {
   "cell_type": "code",
   "execution_count": 64,
   "metadata": {},
   "outputs": [],
   "source": [
    "p = Person(\"John\")"
   ]
  },
  {
   "cell_type": "code",
   "execution_count": 65,
   "metadata": {},
   "outputs": [
    {
     "name": "stdout",
     "output_type": "stream",
     "text": [
      "getattribute __dict__\n"
     ]
    },
    {
     "data": {
      "text/plain": [
       "{'first_name': 'John'}"
      ]
     },
     "execution_count": 65,
     "metadata": {},
     "output_type": "execute_result"
    }
   ],
   "source": [
    "p.__dict__"
   ]
  },
  {
   "cell_type": "code",
   "execution_count": 66,
   "metadata": {},
   "outputs": [
    {
     "name": "stdout",
     "output_type": "stream",
     "text": [
      "getattribute first_name\n"
     ]
    },
    {
     "data": {
      "text/plain": [
       "'John'"
      ]
     },
     "execution_count": 66,
     "metadata": {},
     "output_type": "execute_result"
    }
   ],
   "source": [
    "p.first_name"
   ]
  },
  {
   "cell_type": "markdown",
   "metadata": {},
   "source": []
  },
  {
   "cell_type": "code",
   "execution_count": 10,
   "metadata": {},
   "outputs": [],
   "source": [
    "import datetime\n",
    "\n",
    "\n",
    "class Foo:\n",
    "    def __init__(self):\n",
    "        self.a = \"a\"\n",
    "\n",
    "    def __getattr__(self, attribute):\n",
    "        return f\"You asked for {attribute}, but I'm giving you default\"\n",
    "\n",
    "\n",
    "class Bar(Foo):\n",
    "    attribute_access_log = []\n",
    "\n",
    "    def __init__(self):\n",
    "        self.a = \"a\"\n",
    "        self.access_log = []\n",
    "\n",
    "    def __getattribute__(self, attribute):\n",
    "        Bar.attribute_access_log.append(\n",
    "            f\"Access to {self}.{attribute} at {datetime.datetime.now()}\")\n",
    "        print(f\"You asked for {attribute}\")\n",
    "        return super().__getattribute__(attribute)"
   ]
  },
  {
   "cell_type": "code",
   "execution_count": 12,
   "metadata": {},
   "outputs": [
    {
     "name": "stdout",
     "output_type": "stream",
     "text": [
      "You asked for a\n"
     ]
    },
    {
     "data": {
      "text/plain": [
       "'a'"
      ]
     },
     "execution_count": 12,
     "metadata": {},
     "output_type": "execute_result"
    }
   ],
   "source": [
    "bar = Bar()\n",
    "bar.a"
   ]
  },
  {
   "cell_type": "code",
   "execution_count": 13,
   "metadata": {},
   "outputs": [
    {
     "name": "stdout",
     "output_type": "stream",
     "text": [
      "You asked for a\n"
     ]
    },
    {
     "data": {
      "text/plain": [
       "'a'"
      ]
     },
     "execution_count": 13,
     "metadata": {},
     "output_type": "execute_result"
    }
   ],
   "source": [
    "bar.a"
   ]
  },
  {
   "cell_type": "code",
   "execution_count": 14,
   "metadata": {},
   "outputs": [
    {
     "data": {
      "text/plain": [
       "['Access to <__main__.Bar object at 0x00000238ABF26990>.a at 2023-04-17 11:59:54.452290',\n",
       " 'Access to <__main__.Bar object at 0x00000238ABF26990>.a at 2023-04-17 11:59:55.923565']"
      ]
     },
     "execution_count": 14,
     "metadata": {},
     "output_type": "execute_result"
    }
   ],
   "source": [
    "Bar.attribute_access_log"
   ]
  },
  {
   "attachments": {},
   "cell_type": "markdown",
   "metadata": {},
   "source": [
    "## Składowe prywatne"
   ]
  },
  {
   "cell_type": "code",
   "execution_count": 22,
   "metadata": {},
   "outputs": [],
   "source": [
    "class BankAccount:\n",
    "    def __init__(self, init_balance: float) -> None:\n",
    "        self._balance = init_balance\n",
    "\n",
    "    @property # getter\n",
    "    def balance(self) -> float:\n",
    "        return self._balance\n",
    "\n",
    "    @balance.setter\n",
    "    def balance(self, value: float) -> None:\n",
    "        print(f'Setting balance for {self} to {value}')\n",
    "        self._balance = value\n",
    "        "
   ]
  },
  {
   "cell_type": "code",
   "execution_count": 23,
   "metadata": {},
   "outputs": [
    {
     "data": {
      "text/plain": [
       "1000"
      ]
     },
     "execution_count": 23,
     "metadata": {},
     "output_type": "execute_result"
    }
   ],
   "source": [
    "account_1 = BankAccount(1000)\n",
    "account_1.balance"
   ]
  },
  {
   "cell_type": "code",
   "execution_count": 24,
   "metadata": {},
   "outputs": [
    {
     "name": "stdout",
     "output_type": "stream",
     "text": [
      "Setting balance for <__main__.BankAccount object at 0x00000238ABFEE410> to 3000\n"
     ]
    }
   ],
   "source": [
    "account_1.balance = 3000"
   ]
  },
  {
   "cell_type": "code",
   "execution_count": 25,
   "metadata": {},
   "outputs": [
    {
     "data": {
      "text/plain": [
       "<property at 0x238ac01eb60>"
      ]
     },
     "execution_count": 25,
     "metadata": {},
     "output_type": "execute_result"
    }
   ],
   "source": [
    "BankAccount.balance"
   ]
  },
  {
   "cell_type": "markdown",
   "metadata": {},
   "source": []
  }
 ],
 "metadata": {
  "kernelspec": {
   "display_name": ".venv",
   "language": "python",
   "name": "python3"
  },
  "language_info": {
   "codemirror_mode": {
    "name": "ipython",
    "version": 3
   },
   "file_extension": ".py",
   "mimetype": "text/x-python",
   "name": "python",
   "nbconvert_exporter": "python",
   "pygments_lexer": "ipython3",
   "version": "3.11.2"
  },
  "orig_nbformat": 4
 },
 "nbformat": 4,
 "nbformat_minor": 2
}
