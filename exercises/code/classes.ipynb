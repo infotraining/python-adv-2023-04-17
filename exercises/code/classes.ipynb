{
 "cells": [
  {
   "attachments": {},
   "cell_type": "markdown",
   "metadata": {},
   "source": [
    "# Klasy"
   ]
  },
  {
   "cell_type": "code",
   "execution_count": 23,
   "metadata": {},
   "outputs": [],
   "source": [
    "class Gadget:\n",
    "    def __init__(self, id: int, name: str) -> None:\n",
    "        self.id = id\n",
    "        self.name = name\n",
    "    \n",
    "    def use(self) -> None:\n",
    "        print(f\"Using {self.name} with Id#{self.id}\")    \n",
    "        self.use_count = 1\n",
    "\n",
    "    def __repr__(self) -> str:\n",
    "        return repr(self.__dict__)\n",
    "        \n",
    "    \n",
    "    def __str__(self) -> str:\n",
    "        return f\"Gadget({self.id}, {self.name})\""
   ]
  },
  {
   "cell_type": "code",
   "execution_count": 24,
   "metadata": {},
   "outputs": [
    {
     "name": "stdout",
     "output_type": "stream",
     "text": [
      "Using ipad with Id#1\n"
     ]
    }
   ],
   "source": [
    "my_gadget = Gadget(1, \"ipad\")\n",
    "my_gadget.use()"
   ]
  },
  {
   "cell_type": "code",
   "execution_count": 25,
   "metadata": {},
   "outputs": [
    {
     "data": {
      "text/plain": [
       "{'id': 1, 'name': 'ipad', 'use_count': 1}"
      ]
     },
     "execution_count": 25,
     "metadata": {},
     "output_type": "execute_result"
    }
   ],
   "source": [
    "my_gadget"
   ]
  },
  {
   "cell_type": "code",
   "execution_count": 19,
   "metadata": {},
   "outputs": [
    {
     "data": {
      "text/plain": [
       "Gadget(id=1, name='ipad')"
      ]
     },
     "execution_count": 19,
     "metadata": {},
     "output_type": "execute_result"
    }
   ],
   "source": [
    "eval(repr(my_gadget))"
   ]
  },
  {
   "cell_type": "code",
   "execution_count": 20,
   "metadata": {},
   "outputs": [
    {
     "name": "stdout",
     "output_type": "stream",
     "text": [
      "Gadget(1, ipad)\n"
     ]
    }
   ],
   "source": [
    "print(my_gadget)"
   ]
  },
  {
   "cell_type": "code",
   "execution_count": 22,
   "metadata": {},
   "outputs": [
    {
     "data": {
      "text/plain": [
       "Gadget(id=1, name='ipad')"
      ]
     },
     "execution_count": 22,
     "metadata": {},
     "output_type": "execute_result"
    }
   ],
   "source": [
    "my_gadget"
   ]
  },
  {
   "attachments": {},
   "cell_type": "markdown",
   "metadata": {},
   "source": [
    "## Metody `__new__` i `__init__`"
   ]
  },
  {
   "cell_type": "code",
   "execution_count": 26,
   "metadata": {},
   "outputs": [],
   "source": [
    "class Dummy:\n",
    "    def __new__(cls, *args):\n",
    "        print(f\"Dummy.__new__({cls}, {args}) has been called...\")\n",
    "        obj = super().__new__(cls)\n",
    "        obj.extra_attribute = \"extra\"\n",
    "        print(f\"Object {obj} has been created...\")\n",
    "        return obj\n",
    "    \n",
    "    def __init__(self, *args):\n",
    "        print(f\"Dummy.__init__({self}, {args})...\")\n",
    "        self.args = args\n",
    "        print(f\"Object's __dict__: {self.__dict__}\")\n"
   ]
  },
  {
   "cell_type": "code",
   "execution_count": 27,
   "metadata": {},
   "outputs": [
    {
     "name": "stdout",
     "output_type": "stream",
     "text": [
      "Dummy.__new__(<class '__main__.Dummy'>, (1, 'two')) has been called...\n",
      "Object <__main__.Dummy object at 0x0000024297785850> has been created...\n",
      "Dummy.__init__(<__main__.Dummy object at 0x0000024297785850>, (1, 'two'))...\n",
      "Object's __dict__: {'extra_attribute': 'extra', 'args': (1, 'two')}\n"
     ]
    }
   ],
   "source": [
    "d = Dummy(1, \"two\")"
   ]
  },
  {
   "attachments": {},
   "cell_type": "markdown",
   "metadata": {},
   "source": [
    "## Kiedy używamy `__new__`?"
   ]
  },
  {
   "cell_type": "code",
   "execution_count": 28,
   "metadata": {},
   "outputs": [],
   "source": [
    "class UppercaseTuple(tuple):\n",
    "    def __init__(self, list) -> None:\n",
    "        print(f\"Start changes for {list}\")\n",
    "        for i, item in enumerate(list):\n",
    "            self[i] = item.upper()\n"
   ]
  },
  {
   "cell_type": "code",
   "execution_count": 29,
   "metadata": {},
   "outputs": [
    {
     "name": "stdout",
     "output_type": "stream",
     "text": [
      "Start changes for ['hello', 'world']\n"
     ]
    },
    {
     "ename": "TypeError",
     "evalue": "'UppercaseTuple' object does not support item assignment",
     "output_type": "error",
     "traceback": [
      "\u001b[1;31m---------------------------------------------------------------------------\u001b[0m",
      "\u001b[1;31mTypeError\u001b[0m                                 Traceback (most recent call last)",
      "Cell \u001b[1;32mIn[29], line 1\u001b[0m\n\u001b[1;32m----> 1\u001b[0m UppercaseTuple([\u001b[39m\"\u001b[39;49m\u001b[39mhello\u001b[39;49m\u001b[39m\"\u001b[39;49m, \u001b[39m\"\u001b[39;49m\u001b[39mworld\u001b[39;49m\u001b[39m\"\u001b[39;49m])\n",
      "Cell \u001b[1;32mIn[28], line 5\u001b[0m, in \u001b[0;36mUppercaseTuple.__init__\u001b[1;34m(self, list)\u001b[0m\n\u001b[0;32m      3\u001b[0m \u001b[39mprint\u001b[39m(\u001b[39mf\u001b[39m\u001b[39m\"\u001b[39m\u001b[39mStart changes for \u001b[39m\u001b[39m{\u001b[39;00m\u001b[39mlist\u001b[39m\u001b[39m}\u001b[39;00m\u001b[39m\"\u001b[39m)\n\u001b[0;32m      4\u001b[0m \u001b[39mfor\u001b[39;00m i, item \u001b[39min\u001b[39;00m \u001b[39menumerate\u001b[39m(\u001b[39mlist\u001b[39m):\n\u001b[1;32m----> 5\u001b[0m     \u001b[39mself\u001b[39;49m[i] \u001b[39m=\u001b[39m item\u001b[39m.\u001b[39mupper()\n",
      "\u001b[1;31mTypeError\u001b[0m: 'UppercaseTuple' object does not support item assignment"
     ]
    }
   ],
   "source": [
    "UppercaseTuple([\"hello\", \"world\"])"
   ]
  },
  {
   "cell_type": "code",
   "execution_count": 46,
   "metadata": {},
   "outputs": [],
   "source": [
    "class UppercaseTuple(tuple):\n",
    "    def __new__(cls, list):\n",
    "        print(f\"Start changes for {list}\")\n",
    "        new_content = [item.upper() for item in list]       \n",
    "        return super().__new__(cls, new_content)"
   ]
  },
  {
   "cell_type": "code",
   "execution_count": 47,
   "metadata": {},
   "outputs": [
    {
     "name": "stdout",
     "output_type": "stream",
     "text": [
      "Start changes for ['hello', 'world']\n"
     ]
    }
   ],
   "source": [
    "ut = UppercaseTuple([\"hello\", \"world\"])"
   ]
  },
  {
   "cell_type": "code",
   "execution_count": 48,
   "metadata": {},
   "outputs": [
    {
     "data": {
      "text/plain": [
       "('HELLO', 'WORLD')"
      ]
     },
     "execution_count": 48,
     "metadata": {},
     "output_type": "execute_result"
    }
   ],
   "source": [
    "ut"
   ]
  },
  {
   "attachments": {},
   "cell_type": "markdown",
   "metadata": {},
   "source": [
    "## `__getattr__` , `__setattr__` & `__delattr__`"
   ]
  },
  {
   "cell_type": "code",
   "execution_count": 59,
   "metadata": {},
   "outputs": [],
   "source": [
    "class Record:\n",
    "\n",
    "    def __init__(self):\n",
    "        # Nie możemy użyć poniższego kodu:\n",
    "        #     self._d = {}\n",
    "        # ponieważ zakończyłby się on rekurencyjnym wywoływaniem metody __setattr__\n",
    "        super().__setattr__('_dict', {})\n",
    "\n",
    "    def __getattr__(self, name):\n",
    "        print('getting', name)\n",
    "        return self._dict[name]\n",
    "    \n",
    "    def __setattr__(self, name, value):\n",
    "        print('setting', name, 'to', value)\n",
    "        self._dict[name] = value\n",
    "        \n",
    "    def __delattr__(self, name):\n",
    "        print('deleting', name)\n",
    "        del self._dict[name]"
   ]
  },
  {
   "cell_type": "code",
   "execution_count": 60,
   "metadata": {},
   "outputs": [],
   "source": [
    "r1 = Record()"
   ]
  },
  {
   "cell_type": "code",
   "execution_count": 61,
   "metadata": {},
   "outputs": [],
   "source": [
    "r1.first_name = 'John'"
   ]
  },
  {
   "cell_type": "code",
   "execution_count": 62,
   "metadata": {},
   "outputs": [
    {
     "data": {
      "text/plain": [
       "{'first_name': 'John'}"
      ]
     },
     "execution_count": 62,
     "metadata": {},
     "output_type": "execute_result"
    }
   ],
   "source": [
    "r1.__dict__"
   ]
  },
  {
   "cell_type": "code",
   "execution_count": 52,
   "metadata": {},
   "outputs": [
    {
     "name": "stdout",
     "output_type": "stream",
     "text": [
      "getting first_name\n"
     ]
    },
    {
     "data": {
      "text/plain": [
       "'John'"
      ]
     },
     "execution_count": 52,
     "metadata": {},
     "output_type": "execute_result"
    }
   ],
   "source": [
    "r1.first_name"
   ]
  },
  {
   "cell_type": "code",
   "execution_count": 53,
   "metadata": {},
   "outputs": [
    {
     "name": "stdout",
     "output_type": "stream",
     "text": [
      "getting first_name\n",
      "setting first_name to John F.\n"
     ]
    }
   ],
   "source": [
    "r1.first_name += ' F.'"
   ]
  },
  {
   "cell_type": "code",
   "execution_count": 54,
   "metadata": {},
   "outputs": [
    {
     "name": "stdout",
     "output_type": "stream",
     "text": [
      "deleting first_name\n"
     ]
    }
   ],
   "source": [
    "del r1.first_name"
   ]
  },
  {
   "attachments": {},
   "cell_type": "markdown",
   "metadata": {},
   "source": [
    "## `__getattribute__`"
   ]
  },
  {
   "cell_type": "code",
   "execution_count": 63,
   "metadata": {},
   "outputs": [],
   "source": [
    "class Person:\n",
    "    def __init__(self, first_name):\n",
    "        self.first_name = first_name\n",
    "    \n",
    "    def __getattribute__(self, name):\n",
    "        print('getattribute', name)\n",
    "        return object.__getattribute__(self, name)"
   ]
  },
  {
   "cell_type": "code",
   "execution_count": 64,
   "metadata": {},
   "outputs": [],
   "source": [
    "p = Person(\"John\")"
   ]
  },
  {
   "cell_type": "code",
   "execution_count": 65,
   "metadata": {},
   "outputs": [
    {
     "name": "stdout",
     "output_type": "stream",
     "text": [
      "getattribute __dict__\n"
     ]
    },
    {
     "data": {
      "text/plain": [
       "{'first_name': 'John'}"
      ]
     },
     "execution_count": 65,
     "metadata": {},
     "output_type": "execute_result"
    }
   ],
   "source": [
    "p.__dict__"
   ]
  },
  {
   "cell_type": "code",
   "execution_count": 66,
   "metadata": {},
   "outputs": [
    {
     "name": "stdout",
     "output_type": "stream",
     "text": [
      "getattribute first_name\n"
     ]
    },
    {
     "data": {
      "text/plain": [
       "'John'"
      ]
     },
     "execution_count": 66,
     "metadata": {},
     "output_type": "execute_result"
    }
   ],
   "source": [
    "p.first_name"
   ]
  },
  {
   "cell_type": "markdown",
   "metadata": {},
   "source": []
  },
  {
   "cell_type": "code",
   "execution_count": 10,
   "metadata": {},
   "outputs": [],
   "source": [
    "import datetime\n",
    "\n",
    "\n",
    "class Foo:\n",
    "    def __init__(self):\n",
    "        self.a = \"a\"\n",
    "\n",
    "    def __getattr__(self, attribute):\n",
    "        return f\"You asked for {attribute}, but I'm giving you default\"\n",
    "\n",
    "\n",
    "class Bar(Foo):\n",
    "    attribute_access_log = []\n",
    "\n",
    "    def __init__(self):\n",
    "        self.a = \"a\"\n",
    "        self.access_log = []\n",
    "\n",
    "    def __getattribute__(self, attribute):\n",
    "        Bar.attribute_access_log.append(\n",
    "            f\"Access to {self}.{attribute} at {datetime.datetime.now()}\")\n",
    "        print(f\"You asked for {attribute}\")\n",
    "        return super().__getattribute__(attribute)"
   ]
  },
  {
   "cell_type": "code",
   "execution_count": 12,
   "metadata": {},
   "outputs": [
    {
     "name": "stdout",
     "output_type": "stream",
     "text": [
      "You asked for a\n"
     ]
    },
    {
     "data": {
      "text/plain": [
       "'a'"
      ]
     },
     "execution_count": 12,
     "metadata": {},
     "output_type": "execute_result"
    }
   ],
   "source": [
    "bar = Bar()\n",
    "bar.a"
   ]
  },
  {
   "cell_type": "code",
   "execution_count": 13,
   "metadata": {},
   "outputs": [
    {
     "name": "stdout",
     "output_type": "stream",
     "text": [
      "You asked for a\n"
     ]
    },
    {
     "data": {
      "text/plain": [
       "'a'"
      ]
     },
     "execution_count": 13,
     "metadata": {},
     "output_type": "execute_result"
    }
   ],
   "source": [
    "bar.a"
   ]
  },
  {
   "cell_type": "code",
   "execution_count": 14,
   "metadata": {},
   "outputs": [
    {
     "data": {
      "text/plain": [
       "['Access to <__main__.Bar object at 0x00000238ABF26990>.a at 2023-04-17 11:59:54.452290',\n",
       " 'Access to <__main__.Bar object at 0x00000238ABF26990>.a at 2023-04-17 11:59:55.923565']"
      ]
     },
     "execution_count": 14,
     "metadata": {},
     "output_type": "execute_result"
    }
   ],
   "source": [
    "Bar.attribute_access_log"
   ]
  },
  {
   "attachments": {},
   "cell_type": "markdown",
   "metadata": {},
   "source": [
    "## Składowe prywatne"
   ]
  },
  {
   "cell_type": "code",
   "execution_count": 22,
   "metadata": {},
   "outputs": [],
   "source": [
    "class BankAccount:\n",
    "    def __init__(self, init_balance: float) -> None:\n",
    "        self._balance = init_balance\n",
    "\n",
    "    @property # getter\n",
    "    def balance(self) -> float:\n",
    "        return self._balance\n",
    "\n",
    "    @balance.setter\n",
    "    def balance(self, value: float) -> None:\n",
    "        print(f'Setting balance for {self} to {value}')\n",
    "        self._balance = value\n",
    "        "
   ]
  },
  {
   "cell_type": "code",
   "execution_count": 23,
   "metadata": {},
   "outputs": [
    {
     "data": {
      "text/plain": [
       "1000"
      ]
     },
     "execution_count": 23,
     "metadata": {},
     "output_type": "execute_result"
    }
   ],
   "source": [
    "account_1 = BankAccount(1000)\n",
    "account_1.balance"
   ]
  },
  {
   "cell_type": "code",
   "execution_count": 24,
   "metadata": {},
   "outputs": [
    {
     "name": "stdout",
     "output_type": "stream",
     "text": [
      "Setting balance for <__main__.BankAccount object at 0x00000238ABFEE410> to 3000\n"
     ]
    }
   ],
   "source": [
    "account_1.balance = 3000"
   ]
  },
  {
   "cell_type": "code",
   "execution_count": 25,
   "metadata": {},
   "outputs": [
    {
     "data": {
      "text/plain": [
       "<property at 0x238ac01eb60>"
      ]
     },
     "execution_count": 25,
     "metadata": {},
     "output_type": "execute_result"
    }
   ],
   "source": [
    "BankAccount.balance"
   ]
  },
  {
   "attachments": {},
   "cell_type": "markdown",
   "metadata": {},
   "source": [
    "## staticmethod & classmethod"
   ]
  },
  {
   "cell_type": "code",
   "execution_count": 26,
   "metadata": {},
   "outputs": [],
   "source": [
    "class Date:\n",
    "    def __init__(self, day, month, year):\n",
    "        self.day = day\n",
    "        self.month = month\n",
    "        self.year = year\n",
    "    \n",
    "    @classmethod\n",
    "    def from_string(cls, date_as_string):\n",
    "        print(f\"Calling from_string for class: {cls}\")\n",
    "        day, month, year = date_as_string.split('-')\n",
    "        return cls(int(day), int(month), int(year)) # utworzenie instancji klasy cls"
   ]
  },
  {
   "cell_type": "code",
   "execution_count": 27,
   "metadata": {},
   "outputs": [
    {
     "name": "stdout",
     "output_type": "stream",
     "text": [
      "Calling from_string for class: <class '__main__.Date'>\n"
     ]
    },
    {
     "data": {
      "text/plain": [
       "<__main__.Date at 0x238ac01a8d0>"
      ]
     },
     "execution_count": 27,
     "metadata": {},
     "output_type": "execute_result"
    }
   ],
   "source": [
    "Date.from_string('10-04-2023')"
   ]
  },
  {
   "cell_type": "code",
   "execution_count": 28,
   "metadata": {},
   "outputs": [
    {
     "name": "stdout",
     "output_type": "stream",
     "text": [
      "Calling from_string for class: <class '__main__.Date'>\n"
     ]
    }
   ],
   "source": [
    "date1 = Date.from_string('10-04-2023')"
   ]
  },
  {
   "cell_type": "code",
   "execution_count": 29,
   "metadata": {},
   "outputs": [
    {
     "name": "stdout",
     "output_type": "stream",
     "text": [
      "Calling from_string for class: <class '__main__.Date'>\n"
     ]
    },
    {
     "data": {
      "text/plain": [
       "<__main__.Date at 0x238abfea610>"
      ]
     },
     "execution_count": 29,
     "metadata": {},
     "output_type": "execute_result"
    }
   ],
   "source": [
    "date1.from_string('22-02-2023')"
   ]
  },
  {
   "cell_type": "code",
   "execution_count": 33,
   "metadata": {},
   "outputs": [],
   "source": [
    "class CountedObject(object):\n",
    "    count = 0   # statyczna składowa\n",
    "    \n",
    "    def __init__(self):\n",
    "        CountedObject.count += 1\n",
    "    \n",
    "    @staticmethod  # statyczna metoda\n",
    "    def get_count():\n",
    "        return CountedObject.count"
   ]
  },
  {
   "cell_type": "code",
   "execution_count": 34,
   "metadata": {},
   "outputs": [
    {
     "data": {
      "text/plain": [
       "0"
      ]
     },
     "execution_count": 34,
     "metadata": {},
     "output_type": "execute_result"
    }
   ],
   "source": [
    "CountedObject.count"
   ]
  },
  {
   "cell_type": "code",
   "execution_count": 35,
   "metadata": {},
   "outputs": [],
   "source": [
    "c1 = CountedObject()\n",
    "c2 = CountedObject()"
   ]
  },
  {
   "cell_type": "code",
   "execution_count": 39,
   "metadata": {},
   "outputs": [
    {
     "data": {
      "text/plain": [
       "2"
      ]
     },
     "execution_count": 39,
     "metadata": {},
     "output_type": "execute_result"
    }
   ],
   "source": [
    "CountedObject.get_count()"
   ]
  },
  {
   "cell_type": "code",
   "execution_count": 42,
   "metadata": {},
   "outputs": [],
   "source": [
    "class Person:\n",
    "    first_name: str = \"unknown\"\n",
    "\n",
    "    def __init__(self, fname = None):\n",
    "        if fname is not None:\n",
    "            self.first_name = fname"
   ]
  },
  {
   "cell_type": "code",
   "execution_count": 43,
   "metadata": {},
   "outputs": [
    {
     "data": {
      "text/plain": [
       "'unknown'"
      ]
     },
     "execution_count": 43,
     "metadata": {},
     "output_type": "execute_result"
    }
   ],
   "source": [
    "p1 = Person()\n",
    "p1.first_name"
   ]
  },
  {
   "cell_type": "code",
   "execution_count": 44,
   "metadata": {},
   "outputs": [
    {
     "data": {
      "text/plain": [
       "'John'"
      ]
     },
     "execution_count": 44,
     "metadata": {},
     "output_type": "execute_result"
    }
   ],
   "source": [
    "p2 = Person(\"John\")\n",
    "p2.first_name"
   ]
  },
  {
   "attachments": {},
   "cell_type": "markdown",
   "metadata": {},
   "source": [
    "## Deskryptory"
   ]
  },
  {
   "cell_type": "code",
   "execution_count": 46,
   "metadata": {},
   "outputs": [],
   "source": [
    "class Ten:\n",
    "    def __get__(self, obj, owner = None):\n",
    "        print(f\"Ten.__get__({self}, {obj}, {owner})\")\n",
    "        return 10\n",
    "\n",
    "class Const:\n",
    "    value = Ten()"
   ]
  },
  {
   "cell_type": "code",
   "execution_count": 47,
   "metadata": {},
   "outputs": [],
   "source": [
    "const = Const()"
   ]
  },
  {
   "cell_type": "code",
   "execution_count": 49,
   "metadata": {},
   "outputs": [
    {
     "name": "stdout",
     "output_type": "stream",
     "text": [
      "Ten.__get__(<__main__.Ten object at 0x00000238ABFF7690>, <__main__.Const object at 0x00000238AC560C90>, <class '__main__.Const'>)\n"
     ]
    },
    {
     "data": {
      "text/plain": [
       "10"
      ]
     },
     "execution_count": 49,
     "metadata": {},
     "output_type": "execute_result"
    }
   ],
   "source": [
    "const.value"
   ]
  },
  {
   "cell_type": "code",
   "execution_count": 51,
   "metadata": {},
   "outputs": [],
   "source": [
    "import os\n",
    "\n",
    "class DirectorySize:\n",
    "    \"\"\"Non-data descriptor\"\"\"\n",
    "\n",
    "    def __get__(self, obj, objtype=None):\n",
    "        print(\"getting directory size\")\n",
    "        return len(os.listdir(obj.dirname))\n",
    "\n",
    "class Directory:\n",
    "    size = DirectorySize()              # Descriptor instance\n",
    "\n",
    "    def __init__(self, dirname):\n",
    "        self.dirname = dirname          # Regular instance attribute"
   ]
  },
  {
   "cell_type": "code",
   "execution_count": 52,
   "metadata": {},
   "outputs": [],
   "source": [
    "local_dir = Directory('.')"
   ]
  },
  {
   "cell_type": "code",
   "execution_count": 53,
   "metadata": {},
   "outputs": [
    {
     "data": {
      "text/plain": [
       "{'dirname': '.'}"
      ]
     },
     "execution_count": 53,
     "metadata": {},
     "output_type": "execute_result"
    }
   ],
   "source": [
    "local_dir.__dict__"
   ]
  },
  {
   "cell_type": "code",
   "execution_count": 54,
   "metadata": {},
   "outputs": [
    {
     "name": "stdout",
     "output_type": "stream",
     "text": [
      "getting directory size\n"
     ]
    },
    {
     "data": {
      "text/plain": [
       "1"
      ]
     },
     "execution_count": 54,
     "metadata": {},
     "output_type": "execute_result"
    }
   ],
   "source": [
    "local_dir.size"
   ]
  },
  {
   "attachments": {},
   "cell_type": "markdown",
   "metadata": {},
   "source": [
    "### Walidacja danych z deskryptorem"
   ]
  },
  {
   "cell_type": "code",
   "execution_count": 69,
   "metadata": {},
   "outputs": [],
   "source": [
    "from typing import Callable, Any\n",
    "\n",
    "class ValidatedAttribute:\n",
    "    \"\"\"Data descriptor\"\"\"\n",
    "    def __init__(self, validator: Callable[..., bool]) -> None:\n",
    "        self.validator = validator\n",
    "\n",
    "    def __set_name__(self, owner: Any, name: str):\n",
    "        self.private_name = '_ValidatedAttribute__' + name\n",
    "        print(f'Setting private name to: {self.private_name}')\n",
    "\n",
    "    def __get__(self, obj: Any, owner: type):\n",
    "        print(\"ValidatedAttribute.__get__\")\n",
    "        print(f\"..........self: {self}\")\n",
    "        print(f\"......instance: {obj}\")\n",
    "        print(f\".........owner: {owner}\")\n",
    "        return getattr(obj, self.private_name) # obj._even\n",
    "\n",
    "    def __set__(self, obj, value):\n",
    "        print(\"ValidatedAttribute.__set__\")\n",
    "        print(f\"..........self: {self}\")\n",
    "        print(f\"......instance: {obj}\")\n",
    "        print(f\".........value: {value}\")\n",
    "        if self.validator(value):\n",
    "            setattr(obj, self.private_name, value)\n",
    "        else:\n",
    "            raise AttributeError(\"Attribute validation failed\")"
   ]
  },
  {
   "cell_type": "code",
   "execution_count": 70,
   "metadata": {},
   "outputs": [
    {
     "name": "stdout",
     "output_type": "stream",
     "text": [
      "Setting private name to: _ValidatedAttribute__even\n"
     ]
    }
   ],
   "source": [
    "class Data:\n",
    "    even = ValidatedAttribute(lambda n: n % 2 == 0)\n",
    "\n",
    "    def __init__(self, value):\n",
    "        self._even = 665\n",
    "        self.even = value"
   ]
  },
  {
   "cell_type": "code",
   "execution_count": 71,
   "metadata": {},
   "outputs": [
    {
     "name": "stdout",
     "output_type": "stream",
     "text": [
      "ValidatedAttribute.__set__\n",
      "..........self: <__main__.ValidatedAttribute object at 0x00000238AC55ABD0>\n",
      "......instance: <__main__.Data object at 0x00000238AC5B5350>\n",
      ".........value: 64\n"
     ]
    }
   ],
   "source": [
    "d1 = Data(64)"
   ]
  },
  {
   "cell_type": "code",
   "execution_count": 72,
   "metadata": {},
   "outputs": [
    {
     "data": {
      "text/plain": [
       "{'_even': 665, '_ValidatedAttribute__even': 64}"
      ]
     },
     "execution_count": 72,
     "metadata": {},
     "output_type": "execute_result"
    }
   ],
   "source": [
    "d1.__dict__"
   ]
  },
  {
   "cell_type": "code",
   "execution_count": 73,
   "metadata": {},
   "outputs": [
    {
     "name": "stdout",
     "output_type": "stream",
     "text": [
      "ValidatedAttribute.__get__\n",
      "..........self: <__main__.ValidatedAttribute object at 0x00000238AC55ABD0>\n",
      "......instance: <__main__.Data object at 0x00000238AC5B5350>\n",
      ".........owner: <class '__main__.Data'>\n"
     ]
    },
    {
     "data": {
      "text/plain": [
       "64"
      ]
     },
     "execution_count": 73,
     "metadata": {},
     "output_type": "execute_result"
    }
   ],
   "source": [
    "d1.even"
   ]
  },
  {
   "cell_type": "code",
   "execution_count": 74,
   "metadata": {},
   "outputs": [
    {
     "name": "stdout",
     "output_type": "stream",
     "text": [
      "ValidatedAttribute.__set__\n",
      "..........self: <__main__.ValidatedAttribute object at 0x00000238AC55ABD0>\n",
      "......instance: <__main__.Data object at 0x00000238AC5B5350>\n",
      ".........value: 13\n"
     ]
    },
    {
     "ename": "AttributeError",
     "evalue": "Attribute validation failed",
     "output_type": "error",
     "traceback": [
      "\u001b[1;31m---------------------------------------------------------------------------\u001b[0m",
      "\u001b[1;31mAttributeError\u001b[0m                            Traceback (most recent call last)",
      "Cell \u001b[1;32mIn[74], line 1\u001b[0m\n\u001b[1;32m----> 1\u001b[0m d1\u001b[39m.\u001b[39;49meven \u001b[39m=\u001b[39m \u001b[39m13\u001b[39m\n",
      "Cell \u001b[1;32mIn[69], line 27\u001b[0m, in \u001b[0;36mValidatedAttribute.__set__\u001b[1;34m(self, obj, value)\u001b[0m\n\u001b[0;32m     25\u001b[0m     \u001b[39msetattr\u001b[39m(obj, \u001b[39mself\u001b[39m\u001b[39m.\u001b[39mprivate_name, value)\n\u001b[0;32m     26\u001b[0m \u001b[39melse\u001b[39;00m:\n\u001b[1;32m---> 27\u001b[0m     \u001b[39mraise\u001b[39;00m \u001b[39mAttributeError\u001b[39;00m(\u001b[39m\"\u001b[39m\u001b[39mAttribute validation failed\u001b[39m\u001b[39m\"\u001b[39m)\n",
      "\u001b[1;31mAttributeError\u001b[0m: Attribute validation failed"
     ]
    }
   ],
   "source": [
    "d1.even = 13"
   ]
  },
  {
   "cell_type": "code",
   "execution_count": 64,
   "metadata": {},
   "outputs": [
    {
     "name": "stdout",
     "output_type": "stream",
     "text": [
      "ValidatedAttribute.__get__\n",
      "..........self: <__main__.ValidatedAttribute object at 0x00000238AC00A790>\n",
      "......instance: <__main__.Data object at 0x00000238ABFFBD50>\n",
      ".........owner: <class '__main__.Data'>\n"
     ]
    },
    {
     "data": {
      "text/plain": [
       "64"
      ]
     },
     "execution_count": 64,
     "metadata": {},
     "output_type": "execute_result"
    }
   ],
   "source": [
    "d1.even"
   ]
  },
  {
   "cell_type": "code",
   "execution_count": 66,
   "metadata": {},
   "outputs": [
    {
     "data": {
      "text/plain": [
       "64"
      ]
     },
     "execution_count": 66,
     "metadata": {},
     "output_type": "execute_result"
    }
   ],
   "source": [
    "d1._even"
   ]
  },
  {
   "attachments": {},
   "cell_type": "markdown",
   "metadata": {},
   "source": [
    "### Invocation chain in Python\n",
    "\n",
    "#### Invocation from an instance:\n",
    "\n",
    "`object.__getattribute__()` transforms `b.x` into `type(b).__dict__['x'].__get__(b, type(b))`\n",
    "\n",
    "Let’s say we are looking for attribute `x` on object `o` (`x.o`):\n",
    "\n",
    "* **data descriptors**: value from `__get__` method of the data descriptor named after x\n",
    "\n",
    "* **instance variables**: value of `o. __dict__` for the key named as `x`\n",
    "\n",
    "* **non-data descriptors**: value from `__get__` method of the non-data descriptor named after `x`\n",
    "\n",
    "* **class variables**: `type(o).__dict__` for the key named as `x`\n",
    "\n",
    "* **parent’s class variables** all the way along the MRO,\n",
    "\n",
    "* **`__getattr__()`** if it is provided.\n",
    "\n",
    "#### Invocation from a class\n",
    "\n",
    "* `type.__getattribute__()` which transforms `B.x` into `B.__dict__['x'].__get__(None, B)` .\n",
    "\n",
    "* The logic for a dotted lookup such as `A.x` is in `type.__getattribute__()`. The steps are similar to instance dictionary lookup but it’s a search through the class’s method resolution order.\n",
    "\n",
    "* If a descriptor is found, it is invoked with `desc.__get__(None, A)`"
   ]
  },
  {
   "attachments": {},
   "cell_type": "markdown",
   "metadata": {},
   "source": [
    "## Dziedziczenie"
   ]
  },
  {
   "cell_type": "code",
   "execution_count": 81,
   "metadata": {},
   "outputs": [],
   "source": [
    "class Base:\n",
    "    def __init__(self, value):\n",
    "        self.value = value\n",
    "\n",
    "    def base_method(self):\n",
    "        pass\n",
    "\n",
    "class Derived(Base):\n",
    "    def __init__(self, value, derived_value):\n",
    "        super().__init__(value)\n",
    "        self.derived_value = derived_value\n",
    "    \n",
    "    def derived_method(self):\n",
    "        pass"
   ]
  },
  {
   "cell_type": "code",
   "execution_count": 82,
   "metadata": {},
   "outputs": [],
   "source": [
    "d = Derived(42, 665)"
   ]
  },
  {
   "cell_type": "code",
   "execution_count": 83,
   "metadata": {},
   "outputs": [
    {
     "data": {
      "text/plain": [
       "True"
      ]
     },
     "execution_count": 83,
     "metadata": {},
     "output_type": "execute_result"
    }
   ],
   "source": [
    "isinstance(d, Base)"
   ]
  },
  {
   "cell_type": "code",
   "execution_count": 84,
   "metadata": {},
   "outputs": [
    {
     "data": {
      "text/plain": [
       "{'value': 42, 'derived_value': 665}"
      ]
     },
     "execution_count": 84,
     "metadata": {},
     "output_type": "execute_result"
    }
   ],
   "source": [
    "d.__dict__"
   ]
  },
  {
   "cell_type": "code",
   "execution_count": 87,
   "metadata": {},
   "outputs": [
    {
     "data": {
      "text/plain": [
       "mappingproxy({'__module__': '__main__',\n",
       "              '__init__': <function __main__.Base.__init__(self, value)>,\n",
       "              'base_method': <function __main__.Base.base_method(self)>,\n",
       "              '__dict__': <attribute '__dict__' of 'Base' objects>,\n",
       "              '__weakref__': <attribute '__weakref__' of 'Base' objects>,\n",
       "              '__doc__': None})"
      ]
     },
     "execution_count": 87,
     "metadata": {},
     "output_type": "execute_result"
    }
   ],
   "source": [
    "Base.__dict__"
   ]
  },
  {
   "cell_type": "code",
   "execution_count": 86,
   "metadata": {},
   "outputs": [
    {
     "data": {
      "text/plain": [
       "mappingproxy({'__module__': '__main__',\n",
       "              '__init__': <function __main__.Derived.__init__(self, value, derived_value)>,\n",
       "              'derived_method': <function __main__.Derived.derived_method(self)>,\n",
       "              '__doc__': None})"
      ]
     },
     "execution_count": 86,
     "metadata": {},
     "output_type": "execute_result"
    }
   ],
   "source": [
    "Derived.__dict__"
   ]
  },
  {
   "cell_type": "code",
   "execution_count": 88,
   "metadata": {},
   "outputs": [
    {
     "data": {
      "text/plain": [
       "(__main__.Derived, __main__.Base, object)"
      ]
     },
     "execution_count": 88,
     "metadata": {},
     "output_type": "execute_result"
    }
   ],
   "source": [
    "Derived.__mro__"
   ]
  },
  {
   "attachments": {},
   "cell_type": "markdown",
   "metadata": {},
   "source": [
    "## Abstract Base Classes"
   ]
  },
  {
   "cell_type": "code",
   "execution_count": 95,
   "metadata": {},
   "outputs": [],
   "source": [
    "from abc import ABC, abstractmethod\n",
    "\n",
    "class IBankAccount(ABC):\n",
    "    @abstractmethod\n",
    "    def withdraw(self, amount: float) -> None:\n",
    "        pass\n",
    "\n",
    "    @abstractmethod\n",
    "    def deposit(self, amount: float) -> None:\n",
    "        pass"
   ]
  },
  {
   "cell_type": "code",
   "execution_count": 107,
   "metadata": {},
   "outputs": [],
   "source": [
    "class BankAccount(IBankAccount):\n",
    "    def __init__(self, initial_balance: float, daily_limit: float) -> None:\n",
    "        self.__balance = initial_balance\n",
    "        self.__daily_limit = daily_limit\n",
    "    \n",
    "    @property\n",
    "    def balance(self) -> float:\n",
    "        print('getting balance')\n",
    "        return self.__balance\n",
    "\n",
    "    @property\n",
    "    def daily_limit(self) -> float:\n",
    "        print('getting daily_limit')\n",
    "        return self.__daily_limit\n",
    "    \n",
    "    @daily_limit.setter\n",
    "    def daily_limit(self, value: float) -> None:\n",
    "        if value < 0:\n",
    "            raise ValueError('Value must be >= 0')\n",
    "        self.__daily_limit = value\n"
   ]
  },
  {
   "cell_type": "code",
   "execution_count": 114,
   "metadata": {},
   "outputs": [],
   "source": [
    "class DebitAccount(BankAccount):\n",
    "    def __init__(self, initial_balance: float, daily_limit: float, debit_limit: float) -> None:\n",
    "        super().__init__(initial_balance, daily_limit)\n",
    "        self.__debit_limit = debit_limit\n",
    "\n",
    "    @property\n",
    "    def debit_limit(self) -> float:\n",
    "        return self.__debit_limit\n",
    "    \n",
    "    @debit_limit.setter\n",
    "    def debit_limit(self, limit: float) -> None:\n",
    "        self.__debit_limit = limit\n",
    "\n",
    "    def withdraw(self, amount: float) -> None:\n",
    "        self._BankAccount__balance -= amount\n",
    "\n",
    "    def deposit(self, amount: float) -> None:\n",
    "        self._BankAccount__balance += amount\n",
    "    "
   ]
  },
  {
   "cell_type": "code",
   "execution_count": 115,
   "metadata": {},
   "outputs": [],
   "source": [
    "account = DebitAccount(1000, 200, 500)"
   ]
  },
  {
   "cell_type": "code",
   "execution_count": 116,
   "metadata": {},
   "outputs": [
    {
     "name": "stdout",
     "output_type": "stream",
     "text": [
      "getting balance\n"
     ]
    },
    {
     "data": {
      "text/plain": [
       "1000"
      ]
     },
     "execution_count": 116,
     "metadata": {},
     "output_type": "execute_result"
    }
   ],
   "source": [
    "account.balance"
   ]
  },
  {
   "cell_type": "code",
   "execution_count": 117,
   "metadata": {},
   "outputs": [
    {
     "data": {
      "text/plain": [
       "500"
      ]
     },
     "execution_count": 117,
     "metadata": {},
     "output_type": "execute_result"
    }
   ],
   "source": [
    "account.debit_limit"
   ]
  },
  {
   "cell_type": "code",
   "execution_count": 118,
   "metadata": {},
   "outputs": [],
   "source": [
    "account.withdraw(100)"
   ]
  },
  {
   "cell_type": "code",
   "execution_count": 119,
   "metadata": {},
   "outputs": [
    {
     "name": "stdout",
     "output_type": "stream",
     "text": [
      "getting balance\n"
     ]
    },
    {
     "data": {
      "text/plain": [
       "900"
      ]
     },
     "execution_count": 119,
     "metadata": {},
     "output_type": "execute_result"
    }
   ],
   "source": [
    "account.balance"
   ]
  },
  {
   "cell_type": "code",
   "execution_count": 121,
   "metadata": {},
   "outputs": [
    {
     "ename": "TypeError",
     "evalue": "Can't instantiate abstract class BankAccount with abstract methods deposit, withdraw",
     "output_type": "error",
     "traceback": [
      "\u001b[1;31m---------------------------------------------------------------------------\u001b[0m",
      "\u001b[1;31mTypeError\u001b[0m                                 Traceback (most recent call last)",
      "Cell \u001b[1;32mIn[121], line 1\u001b[0m\n\u001b[1;32m----> 1\u001b[0m account2 \u001b[39m=\u001b[39m BankAccount(\u001b[39m1000\u001b[39;49m, \u001b[39m400\u001b[39;49m)\n",
      "\u001b[1;31mTypeError\u001b[0m: Can't instantiate abstract class BankAccount with abstract methods deposit, withdraw"
     ]
    }
   ],
   "source": [
    "account2 = BankAccount(1000, 400)"
   ]
  },
  {
   "attachments": {},
   "cell_type": "markdown",
   "metadata": {},
   "source": [
    "### Dziedziczenie wielobazowe"
   ]
  },
  {
   "cell_type": "code",
   "execution_count": 122,
   "metadata": {},
   "outputs": [],
   "source": [
    "class A:\n",
    "    def __init__(self):\n",
    "        print(\"A\")\n",
    "\n",
    "class B(A):\n",
    "    def __init__(self):\n",
    "        super().__init__()\n",
    "        print(\"B\")\n",
    "\n",
    "class C(A):\n",
    "    def __init__(self):\n",
    "        super().__init__()\n",
    "        print(\"C\")\n",
    "\n",
    "class D(B, C):\n",
    "    def __init__(self):\n",
    "        super().__init__()\n",
    "        print(\"D\")"
   ]
  },
  {
   "cell_type": "code",
   "execution_count": 123,
   "metadata": {},
   "outputs": [
    {
     "data": {
      "text/plain": [
       "(__main__.D, __main__.B, __main__.C, __main__.A, object)"
      ]
     },
     "execution_count": 123,
     "metadata": {},
     "output_type": "execute_result"
    }
   ],
   "source": [
    "D.__mro__"
   ]
  },
  {
   "attachments": {},
   "cell_type": "markdown",
   "metadata": {},
   "source": [
    "## Mixins"
   ]
  },
  {
   "cell_type": "code",
   "execution_count": 141,
   "metadata": {},
   "outputs": [],
   "source": [
    "class ComparableMixin:\n",
    "    def __ne__(self, other):\n",
    "        return not (self == other)\n",
    "    \n",
    "    def __lt__(self, other):\n",
    "        return self <= other and (self != other)\n",
    "    \n",
    "    def __gt__(self, other):\n",
    "        return not self <= other\n",
    "    \n",
    "    def __ge__(self, other):\n",
    "        return self == other or self > other\n",
    "\n",
    "class Value(ComparableMixin):\n",
    "    def __init__(self, value):\n",
    "        self.value = value\n",
    "\n",
    "    def __eq__(self, other):\n",
    "        return self.value == other.value\n",
    "\n",
    "    def __le__(self, other):\n",
    "        return self.value <= other.value"
   ]
  },
  {
   "cell_type": "code",
   "execution_count": 142,
   "metadata": {},
   "outputs": [],
   "source": [
    "v1 = Value(1)\n",
    "v2 = Value(1)"
   ]
  },
  {
   "cell_type": "code",
   "execution_count": 143,
   "metadata": {},
   "outputs": [
    {
     "data": {
      "text/plain": [
       "True"
      ]
     },
     "execution_count": 143,
     "metadata": {},
     "output_type": "execute_result"
    }
   ],
   "source": [
    "v1 == v2"
   ]
  },
  {
   "cell_type": "code",
   "execution_count": 144,
   "metadata": {},
   "outputs": [
    {
     "data": {
      "text/plain": [
       "True"
      ]
     },
     "execution_count": 144,
     "metadata": {},
     "output_type": "execute_result"
    }
   ],
   "source": [
    "v1 > Value(0)"
   ]
  },
  {
   "cell_type": "code",
   "execution_count": 145,
   "metadata": {},
   "outputs": [],
   "source": [
    "import functools\n",
    "\n",
    "@functools.total_ordering\n",
    "class Value:\n",
    "    def __init__(self, value):\n",
    "        self.value = value\n",
    "\n",
    "    def __eq__(self, other):\n",
    "        return self.value == other.value\n",
    "\n",
    "    def __lt__(self, other):\n",
    "        return self.value < other.value\n",
    "    "
   ]
  },
  {
   "cell_type": "code",
   "execution_count": 146,
   "metadata": {},
   "outputs": [
    {
     "data": {
      "text/plain": [
       "True"
      ]
     },
     "execution_count": 146,
     "metadata": {},
     "output_type": "execute_result"
    }
   ],
   "source": [
    "Value(10) >= Value(5)"
   ]
  },
  {
   "attachments": {},
   "cell_type": "markdown",
   "metadata": {},
   "source": [
    "## abc.Sequence Mixin"
   ]
  },
  {
   "cell_type": "code",
   "execution_count": 147,
   "metadata": {},
   "outputs": [],
   "source": [
    "from collections.abc import Sequence\n",
    "\n",
    "class VerboseTuple(Sequence):\n",
    "    \"\"\"Custom class that is exactly like a tuple but does some\n",
    "    extra magic.\n",
    "\n",
    "    Sequence:\n",
    "    -------------------\n",
    "    Inherits From: Reversible, Collection\n",
    "    Abstract Methods: __getitem__, __len__\n",
    "    Mixin Methods: __contains__, __iter__, __reversed__, index,\n",
    "            and count\n",
    "    \"\"\"\n",
    "\n",
    "    def __init__(self, *args):\n",
    "        self.args = args\n",
    "\n",
    "    @classmethod\n",
    "    def _classname(cls):\n",
    "        # This method just returns the name of the class\n",
    "        return cls.__name__\n",
    "    \n",
    "    def __getitem__(self, index):\n",
    "        print(f\"Method: __getitem__, Index: {index}\")\n",
    "        return self.args[index]\n",
    "\n",
    "    def __len__(self):\n",
    "        print(f\"Method: __len__\")\n",
    "        return len(self.args)\n",
    "\n",
    "    def __repr__(self):\n",
    "        return f\"{self._classname()}{tuple(self.args)}\""
   ]
  },
  {
   "cell_type": "code",
   "execution_count": 149,
   "metadata": {},
   "outputs": [
    {
     "data": {
      "text/plain": [
       "VerboseTuple(1, 2, 3)"
      ]
     },
     "execution_count": 149,
     "metadata": {},
     "output_type": "execute_result"
    }
   ],
   "source": [
    "vt = VerboseTuple(1, 2, 3)\n",
    "vt"
   ]
  },
  {
   "cell_type": "code",
   "execution_count": 150,
   "metadata": {},
   "outputs": [
    {
     "name": "stdout",
     "output_type": "stream",
     "text": [
      "Abstract Methods: {'__getitem__', '__len__'}\n",
      "Mixin Methods: {'__reversed__', 'index', '__getitem__', '__contains__', 'count', '__iter__'}\n"
     ]
    }
   ],
   "source": [
    "print(f\"Abstract Methods: {set(Sequence.__abstractmethods__)}\")\n",
    "print(f\"Mixin Methods: { {k for k, v in Sequence.__dict__.items() if callable(v)} }\")"
   ]
  },
  {
   "cell_type": "code",
   "execution_count": 151,
   "metadata": {},
   "outputs": [
    {
     "name": "stdout",
     "output_type": "stream",
     "text": [
      "Method: __len__\n"
     ]
    },
    {
     "data": {
      "text/plain": [
       "3"
      ]
     },
     "execution_count": 151,
     "metadata": {},
     "output_type": "execute_result"
    }
   ],
   "source": [
    "len(vt)"
   ]
  },
  {
   "cell_type": "code",
   "execution_count": 153,
   "metadata": {},
   "outputs": [
    {
     "name": "stdout",
     "output_type": "stream",
     "text": [
      "Method: __len__\n",
      "Method: __getitem__, Index: 2\n",
      "Method: __getitem__, Index: 1\n",
      "Method: __getitem__, Index: 0\n"
     ]
    },
    {
     "data": {
      "text/plain": [
       "(3, 2, 1)"
      ]
     },
     "execution_count": 153,
     "metadata": {},
     "output_type": "execute_result"
    }
   ],
   "source": [
    "tuple(reversed(vt))"
   ]
  },
  {
   "cell_type": "code",
   "execution_count": 154,
   "metadata": {},
   "outputs": [
    {
     "name": "stdout",
     "output_type": "stream",
     "text": [
      "Method: __getitem__, Index: 0\n",
      "Method: __getitem__, Index: 1\n"
     ]
    },
    {
     "data": {
      "text/plain": [
       "1"
      ]
     },
     "execution_count": 154,
     "metadata": {},
     "output_type": "execute_result"
    }
   ],
   "source": [
    "vt.index(2)"
   ]
  },
  {
   "cell_type": "code",
   "execution_count": 156,
   "metadata": {},
   "outputs": [
    {
     "name": "stdout",
     "output_type": "stream",
     "text": [
      "Method: __getitem__, Index: 0\n"
     ]
    },
    {
     "data": {
      "text/plain": [
       "True"
      ]
     },
     "execution_count": 156,
     "metadata": {},
     "output_type": "execute_result"
    }
   ],
   "source": [
    "1 in vt"
   ]
  },
  {
   "cell_type": "code",
   "execution_count": 157,
   "metadata": {},
   "outputs": [
    {
     "data": {
      "text/plain": [
       "140731597517608"
      ]
     },
     "execution_count": 157,
     "metadata": {},
     "output_type": "execute_result"
    }
   ],
   "source": [
    "id(1)"
   ]
  },
  {
   "cell_type": "code",
   "execution_count": 159,
   "metadata": {},
   "outputs": [
    {
     "data": {
      "text/plain": [
       "2442434991984"
      ]
     },
     "execution_count": 159,
     "metadata": {},
     "output_type": "execute_result"
    }
   ],
   "source": [
    "id(1237654127635476234581237645281374523768154812376457682345823645)"
   ]
  },
  {
   "cell_type": "markdown",
   "metadata": {},
   "source": []
  }
 ],
 "metadata": {
  "kernelspec": {
   "display_name": ".venv",
   "language": "python",
   "name": "python3"
  },
  "language_info": {
   "codemirror_mode": {
    "name": "ipython",
    "version": 3
   },
   "file_extension": ".py",
   "mimetype": "text/x-python",
   "name": "python",
   "nbconvert_exporter": "python",
   "pygments_lexer": "ipython3",
   "version": "3.11.2"
  },
  "orig_nbformat": 4
 },
 "nbformat": 4,
 "nbformat_minor": 2
}
