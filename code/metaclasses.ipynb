{
 "cells": [
  {
   "cell_type": "markdown",
   "metadata": {},
   "source": [
    "# Metaklasy"
   ]
  },
  {
   "cell_type": "code",
   "execution_count": 2,
   "metadata": {},
   "outputs": [],
   "source": [
    "class Shape:\n",
    "    def draw(self):\n",
    "        pass\n",
    "\n",
    "class Rectangle(Shape):\n",
    "    _id = 'RECT'\n",
    "\n",
    "    def __init__(self, width, height):\n",
    "        self.width = width\n",
    "        self.height = height        \n",
    "\n",
    "    def draw(self):\n",
    "        print(f'Drawing {Rectangle._id}({self.width}, {self.height})')"
   ]
  },
  {
   "cell_type": "code",
   "execution_count": 3,
   "metadata": {},
   "outputs": [],
   "source": [
    "r = Rectangle(10, 20)"
   ]
  },
  {
   "cell_type": "code",
   "execution_count": 4,
   "metadata": {},
   "outputs": [
    {
     "name": "stdout",
     "output_type": "stream",
     "text": [
      "Drawing RECT(10, 20)\n"
     ]
    }
   ],
   "source": [
    "r.draw()"
   ]
  },
  {
   "cell_type": "code",
   "execution_count": 5,
   "metadata": {},
   "outputs": [
    {
     "data": {
      "text/plain": [
       "type"
      ]
     },
     "execution_count": 5,
     "metadata": {},
     "output_type": "execute_result"
    }
   ],
   "source": [
    "type(Rectangle)"
   ]
  },
  {
   "cell_type": "code",
   "execution_count": 6,
   "metadata": {},
   "outputs": [
    {
     "data": {
      "text/plain": [
       "'Rectangle'"
      ]
     },
     "execution_count": 6,
     "metadata": {},
     "output_type": "execute_result"
    }
   ],
   "source": [
    "Rectangle.__name__"
   ]
  },
  {
   "attachments": {},
   "cell_type": "markdown",
   "metadata": {},
   "source": [
    "To samo ale dynamicznie:"
   ]
  },
  {
   "cell_type": "code",
   "execution_count": 13,
   "metadata": {},
   "outputs": [],
   "source": [
    "def rect_init(self, width, height):\n",
    "        self.width = width\n",
    "        self.height = height  \n",
    "\n",
    "RectangleT = type('RectangleT', (Shape, ), {\n",
    "        '_id': 'RECT',\n",
    "        '__init__': rect_init,\n",
    "        'draw' : lambda self: print(f'Drawing {RectangleT._id}({self.width}, {self.height})')\n",
    "})"
   ]
  },
  {
   "cell_type": "code",
   "execution_count": 14,
   "metadata": {},
   "outputs": [
    {
     "data": {
      "text/plain": [
       "'RectangleT'"
      ]
     },
     "execution_count": 14,
     "metadata": {},
     "output_type": "execute_result"
    }
   ],
   "source": [
    "RectangleT.__name__"
   ]
  },
  {
   "cell_type": "code",
   "execution_count": 15,
   "metadata": {},
   "outputs": [
    {
     "data": {
      "text/plain": [
       "type"
      ]
     },
     "execution_count": 15,
     "metadata": {},
     "output_type": "execute_result"
    }
   ],
   "source": [
    "type(RectangleT)"
   ]
  },
  {
   "cell_type": "code",
   "execution_count": 16,
   "metadata": {},
   "outputs": [],
   "source": [
    "r2 = RectangleT(10, 20)"
   ]
  },
  {
   "cell_type": "code",
   "execution_count": 17,
   "metadata": {},
   "outputs": [
    {
     "name": "stdout",
     "output_type": "stream",
     "text": [
      "Drawing RECT(10, 20)\n"
     ]
    }
   ],
   "source": [
    "r2.draw()"
   ]
  },
  {
   "cell_type": "code",
   "execution_count": 18,
   "metadata": {},
   "outputs": [
    {
     "data": {
      "text/plain": [
       "'RECT'"
      ]
     },
     "execution_count": 18,
     "metadata": {},
     "output_type": "execute_result"
    }
   ],
   "source": [
    "RectangleT._id"
   ]
  },
  {
   "cell_type": "code",
   "execution_count": 20,
   "metadata": {},
   "outputs": [],
   "source": [
    "class AClass(metaclass=type):\n",
    "    pass"
   ]
  },
  {
   "cell_type": "code",
   "execution_count": null,
   "metadata": {},
   "outputs": [],
   "source": [
    "class Metaclass(type):\n",
    "    @classmethod \n",
    "    def __prepare__(mcs, name, bases, **kwargs): \n",
    "        return super().__prepare__(name, bases, **kwargs)\n",
    "\n",
    "    def __new__(mcs, name, bases, class_dict):\n",
    "        return super().__new__(mcs, name, bases, class_dict)\n",
    "    \n",
    "    def __init__(cls, name, bases, class_dict, **kwargs): \n",
    "        super().__init__(name, bases, class_dict) \n",
    "\n",
    "    def __call__(cls, *args, **kwargs): \n",
    "        return super().__call__(*args, **kwargs)"
   ]
  },
  {
   "cell_type": "code",
   "execution_count": null,
   "metadata": {},
   "outputs": [],
   "source": [
    "class RevealingMeta(type): \n",
    "    def __new__(mcs, name, bases, namespace, **kwargs): \n",
    "        print(mcs, \"METACLASS __new__ called\") \n",
    "        return super().__new__(mcs, name, bases, namespace) \n",
    " \n",
    "    @classmethod \n",
    "    def __prepare__(mcs, name, bases, **kwargs): \n",
    "        print(mcs, \" METACLASS __prepare__ called\") \n",
    "        return super().__prepare__(mcs, name, bases, **kwargs) \n",
    " \n",
    "    def __init__(cls, name, bases, namespace, **kwargs): \n",
    "        print(cls, \" METACLASS __init__ called\") \n",
    "        super().__init__(name, bases, namespace) \n",
    " \n",
    "    def __call__(cls, *args, **kwargs): \n",
    "        print(cls, \" METACLASS __call__ called\") \n",
    "        return super().__call__(*args, **kwargs) "
   ]
  },
  {
   "cell_type": "code",
   "execution_count": null,
   "metadata": {},
   "outputs": [
    {
     "name": "stdout",
     "output_type": "stream",
     "text": [
      "<class '__main__.RevealingMeta'>  METACLASS __prepare__ called\n",
      "<class '__main__.RevealingMeta'> METACLASS __new__ called\n",
      "<class '__main__.RevealingClass'>  METACLASS __init__ called\n"
     ]
    }
   ],
   "source": [
    "class RevealingClass(metaclass=RevealingMeta):\n",
    "    def __new__(cls):\n",
    "        print(cls, \"__new__ called\")\n",
    "        return super().__new__(cls)\n",
    "    \n",
    "    def __init__(self):\n",
    "        print(self, \"__init__ called\")\n",
    "        super().__init__()"
   ]
  },
  {
   "cell_type": "code",
   "execution_count": null,
   "metadata": {},
   "outputs": [
    {
     "name": "stdout",
     "output_type": "stream",
     "text": [
      "<class '__main__.RevealingClass'>  METACLASS __call__ called\n",
      "<class '__main__.RevealingClass'> __new__ called\n",
      "<__main__.RevealingClass object at 0x00000206CC90D850> __init__ called\n"
     ]
    }
   ],
   "source": [
    "instance_rc = RevealingClass()"
   ]
  },
  {
   "cell_type": "code",
   "execution_count": 36,
   "metadata": {},
   "outputs": [],
   "source": [
    "class Meta(type):\n",
    "    @property\n",
    "    def some_property(cls):\n",
    "        return f'property of {cls!r}'\n",
    "    \n",
    "    def some_method(self):\n",
    "        return f'method of {self}'\n",
    "    \n",
    "class SomeClass(metaclass=Meta):\n",
    "    pass"
   ]
  },
  {
   "cell_type": "code",
   "execution_count": 37,
   "metadata": {},
   "outputs": [
    {
     "data": {
      "text/plain": [
       "\"method of <class '__main__.SomeClass'>\""
      ]
     },
     "execution_count": 37,
     "metadata": {},
     "output_type": "execute_result"
    }
   ],
   "source": [
    "SomeClass.some_method()"
   ]
  },
  {
   "cell_type": "code",
   "execution_count": 38,
   "metadata": {},
   "outputs": [
    {
     "data": {
      "text/plain": [
       "\"property of <class '__main__.SomeClass'>\""
      ]
     },
     "execution_count": 38,
     "metadata": {},
     "output_type": "execute_result"
    }
   ],
   "source": [
    "SomeClass.some_property"
   ]
  },
  {
   "cell_type": "code",
   "execution_count": 39,
   "metadata": {},
   "outputs": [
    {
     "data": {
      "text/plain": [
       "(__main__.SomeClass, object)"
      ]
     },
     "execution_count": 39,
     "metadata": {},
     "output_type": "execute_result"
    }
   ],
   "source": [
    "SomeClass.__mro__"
   ]
  },
  {
   "attachments": {},
   "cell_type": "markdown",
   "metadata": {},
   "source": [
    "## Użycie metaklasy"
   ]
  },
  {
   "cell_type": "code",
   "execution_count": 30,
   "metadata": {},
   "outputs": [],
   "source": [
    "from typing import Any, Mapping\n",
    "import inflection\n",
    "\n",
    "class CaseInterpolationDict(dict):\n",
    "    def __setitem__(self, key, value):\n",
    "        super().__setitem__(key, value)\n",
    "        super().__setitem__(inflection.underscore(key), value)\n",
    "\n",
    "class CaseInterpolatedMeta(type):\n",
    "    @classmethod\n",
    "    def __prepare__(metacls, __name: str, __bases: tuple[type, ...], **kwds: Any) -> Mapping[str, object]:\n",
    "        return CaseInterpolationDict()\n",
    "    \n",
    "\n",
    "class MyUser(metaclass=CaseInterpolatedMeta):\n",
    "    pass\n",
    "\n",
    "class User(MyUser):    \n",
    "    def __init__(self, firstName: str, lastName: str):\n",
    "        self.firstName = firstName\n",
    "        self.lastName = lastName\n",
    "\n",
    "    def getDisplayName(self):\n",
    "        return f\"{self.firstName} {self.lastName}\"\n",
    "    \n",
    "    def greetUser(self):\n",
    "        return f\"Hello {self.getDisplayName()}!\""
   ]
  },
  {
   "cell_type": "code",
   "execution_count": 33,
   "metadata": {},
   "outputs": [],
   "source": [
    "User.__dict__\n",
    "\n",
    "user = User(\"John\", \"Doe\")"
   ]
  },
  {
   "cell_type": "code",
   "execution_count": 34,
   "metadata": {},
   "outputs": [
    {
     "data": {
      "text/plain": [
       "'Hello John Doe!'"
      ]
     },
     "execution_count": 34,
     "metadata": {},
     "output_type": "execute_result"
    }
   ],
   "source": [
    "user.greet_user()"
   ]
  },
  {
   "attachments": {},
   "cell_type": "markdown",
   "metadata": {},
   "source": [
    "# Metaklasy i kwargs"
   ]
  },
  {
   "cell_type": "code",
   "execution_count": 41,
   "metadata": {},
   "outputs": [],
   "source": [
    "class AddClassAttributeMeta(type):\n",
    "    def __new__(metaclass, name, bases, namespace, **kwargs):\n",
    "        for k, v in kwargs.items():\n",
    "            namespace.setdefault(k, v)\n",
    "        return type.__new__(metaclass, name, bases, namespace)\n",
    "\n",
    "    def __init__(metaclass, name, bases, namespace, **kwargs):\n",
    "        type.__init__(metaclass, name, bases, namespace)"
   ]
  },
  {
   "cell_type": "code",
   "execution_count": 42,
   "metadata": {},
   "outputs": [],
   "source": [
    "class WithArgs(metaclass=AddClassAttributeMeta, a = 665):\n",
    "    pass"
   ]
  },
  {
   "cell_type": "code",
   "execution_count": 43,
   "metadata": {},
   "outputs": [
    {
     "data": {
      "text/plain": [
       "665"
      ]
     },
     "execution_count": 43,
     "metadata": {},
     "output_type": "execute_result"
    }
   ],
   "source": [
    "WithArgs.a"
   ]
  },
  {
   "attachments": {},
   "cell_type": "markdown",
   "metadata": {},
   "source": [
    "## `__init_subclass__`"
   ]
  },
  {
   "cell_type": "code",
   "execution_count": 44,
   "metadata": {},
   "outputs": [],
   "source": [
    "class AddClassAttribute:\n",
    "    def __init_subclass__(cls, **kwargs) -> None:\n",
    "        super().__init_subclass__()\n",
    "\n",
    "        for k, v in kwargs.items():\n",
    "            setattr(cls, k, v)\n",
    "\n",
    "\n",
    "class WithAttributes(AddClassAttribute, a = 667):\n",
    "    pass"
   ]
  },
  {
   "cell_type": "code",
   "execution_count": 45,
   "metadata": {},
   "outputs": [
    {
     "data": {
      "text/plain": [
       "667"
      ]
     },
     "execution_count": 45,
     "metadata": {},
     "output_type": "execute_result"
    }
   ],
   "source": [
    "WithAttributes.a"
   ]
  },
  {
   "attachments": {},
   "cell_type": "markdown",
   "metadata": {},
   "source": [
    "# namedtuple - how it works"
   ]
  },
  {
   "cell_type": "code",
   "execution_count": 46,
   "metadata": {},
   "outputs": [],
   "source": [
    "from typing import Iterable, Iterator, Union\n",
    "\n",
    "\n",
    "FieldNames = Union[str, Iterable[str]]\n",
    "\n",
    "\n",
    "def parse_identifiers(names: FieldNames) -> tuple[str, ...]:\n",
    "    if isinstance(names, str):\n",
    "        names = names.replace(',', ' ').split()\n",
    "\n",
    "    if not all(s.isidentifier() for s in names):\n",
    "        raise ValueError('names must all be valid identifiers')\n",
    "\n",
    "    return tuple(names)\n",
    "\n",
    "def record_factory(cls_name, field_names: FieldNames):\n",
    "    slots = parse_identifiers(field_names)\n",
    "\n",
    "    def __init__(self, *args, **kwargs) -> None:\n",
    "        attrs = dict(zip(self.__slots__, args))\n",
    "        attrs.update(kwargs)\n",
    "\n",
    "        for name, value in attrs.items():\n",
    "            setattr(self, name, value)\n",
    "\n",
    "    def __iter__(self) -> Iterator[Any]:\n",
    "        for name in self.__slots__:\n",
    "            yield getattr(self, name)\n",
    "\n",
    "    def __repr__(self):\n",
    "        values = ', '.join(f\"{name}={value!r}\" for name,\n",
    "                           value in zip(self.__slots__, self))\n",
    "        cls_name = self.__class__.__name__\n",
    "        return f\"{cls_name}({values})\"\n",
    "\n",
    "    cls_attrs = dict(\n",
    "        __slots__ = slots,\n",
    "        __init__ = __init__,\n",
    "        __repr__ = __repr__,\n",
    "        __iter__ = __iter__\n",
    "    )\n",
    "\n",
    "    return type(cls_name, (object, ), cls_attrs)"
   ]
  },
  {
   "cell_type": "code",
   "execution_count": 47,
   "metadata": {},
   "outputs": [],
   "source": [
    "Point = record_factory('Point', 'x y')"
   ]
  },
  {
   "cell_type": "code",
   "execution_count": 48,
   "metadata": {},
   "outputs": [],
   "source": [
    "pt1 = Point(20, 30)"
   ]
  },
  {
   "cell_type": "code",
   "execution_count": 49,
   "metadata": {},
   "outputs": [
    {
     "data": {
      "text/plain": [
       "Point(x=20, y=30)"
      ]
     },
     "execution_count": 49,
     "metadata": {},
     "output_type": "execute_result"
    }
   ],
   "source": [
    "pt1"
   ]
  },
  {
   "cell_type": "code",
   "execution_count": 50,
   "metadata": {},
   "outputs": [
    {
     "name": "stdout",
     "output_type": "stream",
     "text": [
      "20\n",
      "30\n"
     ]
    }
   ],
   "source": [
    "for i in pt1:\n",
    "    print(i)"
   ]
  },
  {
   "cell_type": "code",
   "execution_count": 51,
   "metadata": {},
   "outputs": [
    {
     "data": {
      "text/plain": [
       "mappingproxy({'__slots__': ('x', 'y'),\n",
       "              '__init__': <function __main__.record_factory.<locals>.__init__(self, *args, **kwargs) -> None>,\n",
       "              '__repr__': <function __main__.record_factory.<locals>.__repr__(self)>,\n",
       "              '__iter__': <function __main__.record_factory.<locals>.__iter__(self) -> Iterator[Any]>,\n",
       "              '__module__': '__main__',\n",
       "              'x': <member 'x' of 'Point' objects>,\n",
       "              'y': <member 'y' of 'Point' objects>,\n",
       "              '__doc__': None})"
      ]
     },
     "execution_count": 51,
     "metadata": {},
     "output_type": "execute_result"
    }
   ],
   "source": [
    "Point.__dict__"
   ]
  },
  {
   "attachments": {},
   "cell_type": "markdown",
   "metadata": {},
   "source": [
    "## NamedTuple"
   ]
  },
  {
   "cell_type": "code",
   "execution_count": 57,
   "metadata": {},
   "outputs": [],
   "source": [
    "class MetaBunch(type):\n",
    "    def __new__(mcl, classname, bases, classdict):\n",
    "        \n",
    "        # Define as local functions __init__ & __repr__ that we'll use \n",
    "        # in the new class\n",
    "        def __init__(self, **kwargs):\n",
    "            \"\"\"__init__ is simple: first, set attributes without\n",
    "               explicit values to their defaults; then, set those\n",
    "               explicitly passed in kw.\n",
    "            \"\"\"\n",
    "            for k in self.__dflts__:\n",
    "                if not k in kwargs:\n",
    "                    setattr(self, k, self.__dflts__[k])\n",
    "            for k in kwargs:\n",
    "                setattr(self, k, kwargs[k])\n",
    "\n",
    "        def __repr__(self):\n",
    "            \"\"\"__repr__ is minimal: shows only attributes that\n",
    "               differ from default values, for compactness.\n",
    "            \"\"\"\n",
    "            rep = [f'{k}={getattr(self, k)!r}' for k in self.__dflts__ if getattr(self, k) != self.__dflts__[k]]\n",
    "            return f\"{classname}({', '.join(rep)})\"\n",
    "        \n",
    "        newdict = { \n",
    "            '__slots__': [], \n",
    "            '__dflts__': {},\n",
    "            '__init__' : __init__, \n",
    "            '__repr__' : __repr__,\n",
    "        }\n",
    "        for k in classdict:\n",
    "            if k.startswith('__') and k.endswith('__'):\n",
    "                if k in newdict:\n",
    "                    warnings.warn(f\"Cannot set attr {k!r} in bunch-class {classname!r}\")\n",
    "                else:\n",
    "                    newdict[k] = classdict[k]\n",
    "            else:\n",
    "                newdict['__slots__'].append(k)\n",
    "                newdict['__dflts__'][k] = classdict[k]\n",
    "\n",
    "        return super().__new__(mcl, classname, bases, newdict)\n",
    "\n",
    "class Bunch(metaclass=MetaBunch):\n",
    "    pass"
   ]
  },
  {
   "cell_type": "code",
   "execution_count": 58,
   "metadata": {},
   "outputs": [],
   "source": [
    "class Point(Bunch):\n",
    "    x = 0\n",
    "    y = 0\n",
    "    color = 'red'\n",
    "\n",
    "pt = Point(x=10, y=20)"
   ]
  },
  {
   "cell_type": "code",
   "execution_count": 59,
   "metadata": {},
   "outputs": [
    {
     "data": {
      "text/plain": [
       "10"
      ]
     },
     "execution_count": 59,
     "metadata": {},
     "output_type": "execute_result"
    }
   ],
   "source": [
    "pt.x"
   ]
  },
  {
   "cell_type": "code",
   "execution_count": 60,
   "metadata": {},
   "outputs": [
    {
     "data": {
      "text/plain": [
       "20"
      ]
     },
     "execution_count": 60,
     "metadata": {},
     "output_type": "execute_result"
    }
   ],
   "source": [
    "pt.y"
   ]
  },
  {
   "cell_type": "code",
   "execution_count": 61,
   "metadata": {},
   "outputs": [
    {
     "data": {
      "text/plain": [
       "'red'"
      ]
     },
     "execution_count": 61,
     "metadata": {},
     "output_type": "execute_result"
    }
   ],
   "source": [
    "pt.color"
   ]
  },
  {
   "cell_type": "code",
   "execution_count": 62,
   "metadata": {},
   "outputs": [
    {
     "data": {
      "text/plain": [
       "Point(x=10, y=20)"
      ]
     },
     "execution_count": 62,
     "metadata": {},
     "output_type": "execute_result"
    }
   ],
   "source": [
    "pt"
   ]
  },
  {
   "attachments": {},
   "cell_type": "markdown",
   "metadata": {},
   "source": [
    "# ABC"
   ]
  },
  {
   "cell_type": "code",
   "execution_count": 66,
   "metadata": {},
   "outputs": [],
   "source": [
    "def abstractmethod(function):\n",
    "    function.__abstract__ = True\n",
    "    return function "
   ]
  },
  {
   "cell_type": "code",
   "execution_count": 69,
   "metadata": {},
   "outputs": [],
   "source": [
    "import functools\n",
    "\n",
    "\n",
    "class AbstractMeta(type):\n",
    "    def __new__(metaclass, name, bases, namespace):\n",
    "        # Create the class instance\n",
    "        print(f\"__new__({metaclass}, {name}, {bases!r}, {namespace!r})\")\n",
    "        cls = super().__new__(metaclass, name, bases, namespace)\n",
    "\n",
    "        # Collect all local method marked as abstract\n",
    "        abstracts = set()\n",
    "        for k, v in namespace.items():\n",
    "            if getattr(v, '__abstract__', False):\n",
    "                abstracts.add(k)\n",
    "\n",
    "        # Look for abstract methods in the base classes and add them to the list of abstracts\n",
    "        for base in bases:\n",
    "            for k in getattr(base, '__abstracts__', ()):\n",
    "                v = getattr(cls, k, None)\n",
    "                if getattr(v, '__abstract__', False):\n",
    "                    abstracts.add(k)\n",
    "\n",
    "        # Store the abstracts in a frozenset so the cannot be modified\n",
    "        cls.__abstracts__ = frozenset(abstracts)\n",
    "\n",
    "        # Decorate the __new__ function to check if all abstract functions were implemented\n",
    "        original_new = cls.__new__\n",
    "        @functools.wraps(original_new)\n",
    "        def new(self, *args, **kwargs):\n",
    "            for k in self.__abstracts__:\n",
    "                v = getattr(self, k)\n",
    "                if getattr(v, '__abstract__', False):\n",
    "                    raise RuntimeError(f'{k} is not implemented')\n",
    "            return original_new(self, *args, **kwargs)\n",
    "        \n",
    "        cls.__new__ = new\n",
    "        return cls"
   ]
  },
  {
   "cell_type": "code",
   "execution_count": 74,
   "metadata": {},
   "outputs": [
    {
     "name": "stdout",
     "output_type": "stream",
     "text": [
      "__new__(<class '__main__.AbstractMeta'>, Shape, (), {'__module__': '__main__', '__qualname__': 'Shape', 'draw': <function Shape.draw at 0x00000206CCFAED40>})\n",
      "__new__(<class '__main__.AbstractMeta'>, RotableShape, (<class '__main__.Shape'>,), {'__module__': '__main__', '__qualname__': 'RotableShape', 'rotate': <function RotableShape.rotate at 0x00000206CCFAD120>, 'draw': <function RotableShape.draw at 0x00000206CCFAE700>})\n",
      "__new__(<class '__main__.AbstractMeta'>, Rectangle, (<class '__main__.RotableShape'>,), {'__module__': '__main__', '__qualname__': 'Rectangle', 'rotate': <function Rectangle.rotate at 0x00000206CCFAEB60>})\n"
     ]
    }
   ],
   "source": [
    "class Shape(metaclass=AbstractMeta):\n",
    "\n",
    "    @abstractmethod\n",
    "    def draw(self) -> None:\n",
    "        pass\n",
    "\n",
    "\n",
    "class RotableShape(Shape):\n",
    "    @abstractmethod\n",
    "    def rotate(self, angle):\n",
    "        pass\n",
    "\n",
    "    def draw(self):\n",
    "        print(\"Drawing shape\")\n",
    "\n",
    "class Rectangle(RotableShape):\n",
    "    def rotate(self, angle):\n",
    "        print(\"Rotate rectangle\")\n",
    "\n",
    "r = Rectangle()"
   ]
  },
  {
   "cell_type": "code",
   "execution_count": 75,
   "metadata": {},
   "outputs": [
    {
     "name": "stdout",
     "output_type": "stream",
     "text": [
      "Drawing shape\n"
     ]
    }
   ],
   "source": [
    "r.draw()"
   ]
  },
  {
   "cell_type": "code",
   "execution_count": 77,
   "metadata": {},
   "outputs": [
    {
     "name": "stdout",
     "output_type": "stream",
     "text": [
      "Rotate rectangle\n"
     ]
    }
   ],
   "source": [
    "r.rotate(45)"
   ]
  },
  {
   "cell_type": "markdown",
   "metadata": {},
   "source": []
  }
 ],
 "metadata": {
  "kernelspec": {
   "display_name": ".venv",
   "language": "python",
   "name": "python3"
  },
  "language_info": {
   "codemirror_mode": {
    "name": "ipython",
    "version": 3
   },
   "file_extension": ".py",
   "mimetype": "text/x-python",
   "name": "python",
   "nbconvert_exporter": "python",
   "pygments_lexer": "ipython3",
   "version": "3.11.2"
  },
  "orig_nbformat": 4
 },
 "nbformat": 4,
 "nbformat_minor": 2
}
