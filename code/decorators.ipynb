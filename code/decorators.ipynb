{
 "cells": [
  {
   "attachments": {},
   "cell_type": "markdown",
   "metadata": {},
   "source": [
    "# Dekoratory"
   ]
  },
  {
   "cell_type": "code",
   "execution_count": 37,
   "metadata": {},
   "outputs": [],
   "source": [
    "import functools\n",
    "\n",
    "def shouter(func):\n",
    "    @functools.wraps(func)\n",
    "    def wrapper(*args, **kwargs):\n",
    "        print('Before call ---- ', func.__name__)\n",
    "        result = func(*args, **kwargs)\n",
    "        print('After call ---- ', func.__name__)\n",
    "        return result\n",
    "    \n",
    "    wrapper.__name__ = wrapper.__name__ + \"_decorated\"\n",
    "    return wrapper"
   ]
  },
  {
   "cell_type": "code",
   "execution_count": 40,
   "metadata": {},
   "outputs": [],
   "source": [
    "@shouter\n",
    "def foo():\n",
    "    \"\"\"foo functions\"\"\"\n",
    "    print('foo()')\n",
    "    return \"foo_42\""
   ]
  },
  {
   "cell_type": "code",
   "execution_count": 41,
   "metadata": {},
   "outputs": [
    {
     "data": {
      "text/plain": [
       "'foo_decorated'"
      ]
     },
     "execution_count": 41,
     "metadata": {},
     "output_type": "execute_result"
    }
   ],
   "source": [
    "foo.__name__"
   ]
  },
  {
   "cell_type": "code",
   "execution_count": 33,
   "metadata": {},
   "outputs": [
    {
     "data": {
      "text/plain": [
       "'foo functions'"
      ]
     },
     "execution_count": 33,
     "metadata": {},
     "output_type": "execute_result"
    }
   ],
   "source": [
    "foo.__doc__"
   ]
  },
  {
   "cell_type": "code",
   "execution_count": 19,
   "metadata": {},
   "outputs": [
    {
     "name": "stdout",
     "output_type": "stream",
     "text": [
      "Before call ----  wrapper\n",
      "Before call ----  foo\n",
      "foo()\n",
      "After call ----  foo\n",
      "After call ----  wrapper\n"
     ]
    },
    {
     "data": {
      "text/plain": [
       "'foo_42'"
      ]
     },
     "execution_count": 19,
     "metadata": {},
     "output_type": "execute_result"
    }
   ],
   "source": [
    "foo()"
   ]
  },
  {
   "cell_type": "code",
   "execution_count": 20,
   "metadata": {},
   "outputs": [],
   "source": [
    "foo = shouter(foo)"
   ]
  },
  {
   "cell_type": "code",
   "execution_count": 23,
   "metadata": {},
   "outputs": [],
   "source": [
    "from typing import Callable\n",
    "from typing import Any\n",
    "\n",
    "\n",
    "def disable(func: Callable[..., Any]) -> Callable[..., Any | None]:\n",
    "    @functools.wraps(func)\n",
    "    def _disable(*args, **kwargs):\n",
    "        pass\n",
    "    return _disable\n",
    "\n",
    "@shouter\n",
    "def bar(n):\n",
    "    print(f\"bar({n})\")"
   ]
  },
  {
   "cell_type": "code",
   "execution_count": 24,
   "metadata": {},
   "outputs": [],
   "source": [
    "bar(13)"
   ]
  },
  {
   "attachments": {},
   "cell_type": "markdown",
   "metadata": {},
   "source": [
    "# Dekoratory z parametrami"
   ]
  },
  {
   "cell_type": "code",
   "execution_count": 44,
   "metadata": {},
   "outputs": [],
   "source": [
    "def tag(tagname):\n",
    "    def tag_decorator(func):\n",
    "        @functools.wraps(func)\n",
    "        def _tag_decorator(*args, **kwargs):\n",
    "            tag_before = f\"<{tagname}>\"\n",
    "            tag_after = f\"</{tagname}>\"\n",
    "            return tag_before + func(*args, **kwargs) + tag_after\n",
    "        return _tag_decorator\n",
    "    return tag_decorator        \n",
    "\n",
    "@tag(\"h1\")\n",
    "@tag(\"b\")\n",
    "def output(data):\n",
    "    return data"
   ]
  },
  {
   "cell_type": "code",
   "execution_count": 45,
   "metadata": {},
   "outputs": [
    {
     "data": {
      "text/plain": [
       "'<h1><b>Text</b></h1>'"
      ]
     },
     "execution_count": 45,
     "metadata": {},
     "output_type": "execute_result"
    }
   ],
   "source": [
    "output(\"Text\")"
   ]
  },
  {
   "attachments": {},
   "cell_type": "markdown",
   "metadata": {},
   "source": [
    "# Rejestracja za pomocą dekoratorów"
   ]
  },
  {
   "cell_type": "code",
   "execution_count": 64,
   "metadata": {},
   "outputs": [],
   "source": [
    "import collections\n",
    "\n",
    "\n",
    "class EventRegistry:\n",
    "    def __init__(self) -> None:\n",
    "        self.registry = collections.defaultdict(list)\n",
    "\n",
    "    def on(self, *events):\n",
    "        def _on(function: Callable) -> Callable:\n",
    "            for event in events:\n",
    "                self.registry[event].append(function)\n",
    "            return function\n",
    "        return _on\n",
    "    \n",
    "    def fire(self, event: str, *args, **kwargs):\n",
    "        for function in self.registry[event]:\n",
    "            function(*args, **kwargs)"
   ]
  },
  {
   "cell_type": "code",
   "execution_count": 79,
   "metadata": {},
   "outputs": [],
   "source": [
    "events = EventRegistry()\n",
    "\n",
    "@events.on('start', 'success')\n",
    "def start(service_name: str):\n",
    "    print(f'Starting service {service_name}')\n",
    "\n",
    "@events.on('error')\n",
    "def teardown():\n",
    "    print('Shutting down system')\n",
    "\n",
    "class Printer:\n",
    "    def __init__(self, id: int):\n",
    "        self.id = id\n",
    "    \n",
    "    def run(self, service_name: str):\n",
    "        print(f'Running printer: {self.id}, {service_name}')\n",
    "\n",
    "printer = Printer(42)\n",
    "\n",
    "bound_run = functools.partial(Printer.run, printer)\n",
    "\n",
    "bound_run = events.on('start')(bound_run) # dynamic registration"
   ]
  },
  {
   "cell_type": "code",
   "execution_count": 80,
   "metadata": {},
   "outputs": [
    {
     "name": "stdout",
     "output_type": "stream",
     "text": [
      "Starting service Deamon665\n",
      "Running printer: 42, Deamon665\n"
     ]
    }
   ],
   "source": [
    "events.fire('start', \"Deamon665\")"
   ]
  },
  {
   "attachments": {},
   "cell_type": "markdown",
   "metadata": {},
   "source": [
    "# Tworzenie dekoratorów za pomocą klas"
   ]
  },
  {
   "cell_type": "code",
   "execution_count": 86,
   "metadata": {},
   "outputs": [],
   "source": [
    "class Debug:\n",
    "    def __init__(self, function: Callable) -> None:\n",
    "        self.function = function\n",
    "        functools.update_wrapper(self, function)\n",
    "\n",
    "    def __call__(self, *args, **kwargs):\n",
    "        result = self.function(*args, **kwargs)\n",
    "        name = self.function.__name__\n",
    "\n",
    "        print(f\"{name}({args!r}, {kwargs!r}): {result}\")"
   ]
  },
  {
   "cell_type": "code",
   "execution_count": 87,
   "metadata": {},
   "outputs": [],
   "source": [
    "@Debug\n",
    "def add(a, b):\n",
    "    return a + b"
   ]
  },
  {
   "cell_type": "code",
   "execution_count": 88,
   "metadata": {},
   "outputs": [
    {
     "name": "stdout",
     "output_type": "stream",
     "text": [
      "add((1, 3), {}): 4\n"
     ]
    }
   ],
   "source": [
    "add(1, 3)"
   ]
  },
  {
   "attachments": {},
   "cell_type": "markdown",
   "metadata": {},
   "source": [
    "# Properties"
   ]
  },
  {
   "cell_type": "code",
   "execution_count": 95,
   "metadata": {},
   "outputs": [],
   "source": [
    "class IntProperty:\n",
    "    def __init__(self, fget=None, fset=None, fdel=None) -> None:\n",
    "        self.fget = fget\n",
    "        self.fset = fset\n",
    "        self.fdel = fdel\n",
    "    \n",
    "    def __get__(self, obj, owner_cls):\n",
    "        if obj is None:\n",
    "            return self\n",
    "        elif self.fget:\n",
    "            return self.fget(obj)\n",
    "\n",
    "    def __set__(self, obj, value):\n",
    "        if not isinstance(value, int):\n",
    "            raise ValueError(\"Value must be int\")\n",
    "        self.fset(obj, value)\n",
    "\n",
    "    def __delete__(self, obj):\n",
    "        self.fdel(obj)\n",
    "\n",
    "    def getter(self, fget):\n",
    "        return IntProperty(fget, self.fset, self.fdel)\n",
    "\n",
    "    def setter(self, fset):\n",
    "        return IntProperty(self.fget, fset, self.fdel)\n",
    "    \n",
    "    def deleter(self, fdel):\n",
    "        return IntProperty(self.fget, self.fset, fdel)"
   ]
  },
  {
   "cell_type": "code",
   "execution_count": 96,
   "metadata": {},
   "outputs": [],
   "source": [
    "class Person:\n",
    "\n",
    "    def __init__(self, age) -> None:\n",
    "        self.__age = age\n",
    "\n",
    "    @IntProperty\n",
    "    def age(self):\n",
    "        return self.__age\n",
    "    \n",
    "    @age.setter\n",
    "    def age(self, new_age):\n",
    "        self.__age = new_age\n",
    "\n"
   ]
  },
  {
   "cell_type": "code",
   "execution_count": 97,
   "metadata": {},
   "outputs": [],
   "source": [
    "p = Person(42)"
   ]
  },
  {
   "cell_type": "code",
   "execution_count": 98,
   "metadata": {},
   "outputs": [
    {
     "data": {
      "text/plain": [
       "42"
      ]
     },
     "execution_count": 98,
     "metadata": {},
     "output_type": "execute_result"
    }
   ],
   "source": [
    "p.age"
   ]
  },
  {
   "cell_type": "code",
   "execution_count": 99,
   "metadata": {},
   "outputs": [],
   "source": [
    "p.age = 33"
   ]
  },
  {
   "cell_type": "code",
   "execution_count": 100,
   "metadata": {},
   "outputs": [
    {
     "data": {
      "text/plain": [
       "33"
      ]
     },
     "execution_count": 100,
     "metadata": {},
     "output_type": "execute_result"
    }
   ],
   "source": [
    "p.age"
   ]
  },
  {
   "cell_type": "code",
   "execution_count": 101,
   "metadata": {},
   "outputs": [
    {
     "ename": "ValueError",
     "evalue": "Value must be int",
     "output_type": "error",
     "traceback": [
      "\u001b[1;31m---------------------------------------------------------------------------\u001b[0m",
      "\u001b[1;31mValueError\u001b[0m                                Traceback (most recent call last)",
      "Cell \u001b[1;32mIn[101], line 1\u001b[0m\n\u001b[1;32m----> 1\u001b[0m p\u001b[39m.\u001b[39;49mage \u001b[39m=\u001b[39m \u001b[39m'\u001b[39m\u001b[39m42\u001b[39m\u001b[39m'\u001b[39m\n",
      "Cell \u001b[1;32mIn[95], line 15\u001b[0m, in \u001b[0;36mIntProperty.__set__\u001b[1;34m(self, obj, value)\u001b[0m\n\u001b[0;32m     13\u001b[0m \u001b[39mdef\u001b[39;00m \u001b[39m__set__\u001b[39m(\u001b[39mself\u001b[39m, obj, value):\n\u001b[0;32m     14\u001b[0m     \u001b[39mif\u001b[39;00m \u001b[39mnot\u001b[39;00m \u001b[39misinstance\u001b[39m(value, \u001b[39mint\u001b[39m):\n\u001b[1;32m---> 15\u001b[0m         \u001b[39mraise\u001b[39;00m \u001b[39mValueError\u001b[39;00m(\u001b[39m\"\u001b[39m\u001b[39mValue must be int\u001b[39m\u001b[39m\"\u001b[39m)\n\u001b[0;32m     16\u001b[0m     \u001b[39mself\u001b[39m\u001b[39m.\u001b[39mfset(obj, value)\n",
      "\u001b[1;31mValueError\u001b[0m: Value must be int"
     ]
    }
   ],
   "source": [
    "p.age = '42'"
   ]
  },
  {
   "attachments": {},
   "cell_type": "markdown",
   "metadata": {},
   "source": [
    "# Przykłady \n",
    "\n",
    "## Counter"
   ]
  },
  {
   "cell_type": "code",
   "execution_count": 119,
   "metadata": {},
   "outputs": [],
   "source": [
    "def counter(function: Callable[..., Any]) -> Callable[..., Any]:\n",
    "    function.calls = 0\n",
    "    \n",
    "    @functools.wraps(function)\n",
    "    def _counter(*args, **kwargs):\n",
    "        function.calls += 1\n",
    "        return function(*args, **kwargs)\n",
    "    \n",
    "    return _counter"
   ]
  },
  {
   "cell_type": "code",
   "execution_count": 121,
   "metadata": {},
   "outputs": [],
   "source": [
    "@functools.lru_cache()\n",
    "@counter\n",
    "def fibonacci(n: int) -> int:\n",
    "    if n < 2:\n",
    "        return n\n",
    "    else:\n",
    "        return fibonacci(n-1) + fibonacci(n-2)"
   ]
  },
  {
   "cell_type": "code",
   "execution_count": 122,
   "metadata": {},
   "outputs": [
    {
     "data": {
      "text/plain": [
       "6765"
      ]
     },
     "execution_count": 122,
     "metadata": {},
     "output_type": "execute_result"
    }
   ],
   "source": [
    "fibonacci(20)"
   ]
  },
  {
   "cell_type": "code",
   "execution_count": 124,
   "metadata": {},
   "outputs": [
    {
     "data": {
      "text/plain": [
       "21"
      ]
     },
     "execution_count": 124,
     "metadata": {},
     "output_type": "execute_result"
    }
   ],
   "source": [
    "fibonacci.__wrapped__.__wrapped__.calls"
   ]
  },
  {
   "attachments": {},
   "cell_type": "markdown",
   "metadata": {},
   "source": [
    "## Sort by attribute"
   ]
  },
  {
   "cell_type": "code",
   "execution_count": 128,
   "metadata": {},
   "outputs": [],
   "source": [
    "def sort_by_attribute(attr, keyfunc=getattr):\n",
    "    def _sort_by_attribute(cls):\n",
    "        def __lt__(self, other):\n",
    "            return keyfunc(self, attr) < keyfunc(other, attr)\n",
    "        \n",
    "        def __eq__(self, other):\n",
    "            return keyfunc(self, attr) == keyfunc(other, attr)\n",
    "        \n",
    "        # injecting special function to the class\n",
    "        cls.__lt__ = __lt__\n",
    "        cls.__eq__ = __eq__\n",
    "\n",
    "        return functools.total_ordering(cls)\n",
    "    \n",
    "    return _sort_by_attribute\n"
   ]
  },
  {
   "cell_type": "code",
   "execution_count": 135,
   "metadata": {},
   "outputs": [],
   "source": [
    "@sort_by_attribute('name')\n",
    "class Gadget:\n",
    "    def __init__(self, id, name):\n",
    "        self.id = id\n",
    "        self.name = name\n",
    "    \n",
    "    def __repr__(self) -> str:\n",
    "        return f'<{self.__class__.__name__} {self.id} {self.name}>'"
   ]
  },
  {
   "cell_type": "code",
   "execution_count": 136,
   "metadata": {},
   "outputs": [
    {
     "data": {
      "text/plain": [
       "[<Gadget 3 a gadget>,\n",
       " <Gadget 1 ipad>,\n",
       " <Gadget 665 laptop>,\n",
       " <Gadget 5 smartwatch>]"
      ]
     },
     "execution_count": 136,
     "metadata": {},
     "output_type": "execute_result"
    }
   ],
   "source": [
    "gadgets = [Gadget(1, \"ipad\"), Gadget(5, \"smartwatch\"), Gadget(3, \"a gadget\"), Gadget(665, \"laptop\")]\n",
    "\n",
    "sorted(gadgets)"
   ]
  },
  {
   "attachments": {},
   "cell_type": "markdown",
   "metadata": {},
   "source": [
    "## Synchronized"
   ]
  },
  {
   "cell_type": "code",
   "execution_count": 141,
   "metadata": {},
   "outputs": [],
   "source": [
    "from threading import Lock\n",
    "\n",
    "def synchronized(lock):\n",
    "    \"\"\"Synchronized decorator\"\"\"\n",
    "    def decorate(function):\n",
    "        @functools.wraps(function)\n",
    "        def _synchronized(*args, **kwargs):\n",
    "            with lock:\n",
    "                return function(*args, **kwargs)\n",
    "        return _synchronized\n",
    "    return decorate"
   ]
  },
  {
   "cell_type": "code",
   "execution_count": 142,
   "metadata": {},
   "outputs": [],
   "source": [
    "from threading import Lock\n",
    "\n",
    "class MyLock:\n",
    "    def acquire(self):\n",
    "        print(f\"{self}.acquire()\")\n",
    "\n",
    "    def release(self):\n",
    "        print(f\"{self}.release()\")\n",
    "\n",
    "    def __enter__(self):\n",
    "        self.acquire()\n",
    "        return self\n",
    "\n",
    "    def __exit__(self, excpt_type, excpt_val, excpt_tb):\n",
    "        self.release()\n",
    "\n",
    "my_lock = MyLock()\n",
    "\n",
    "@synchronized(my_lock)\n",
    "def critical_section_1():\n",
    "    print(critical_section_1.__name__)"
   ]
  },
  {
   "cell_type": "code",
   "execution_count": 143,
   "metadata": {},
   "outputs": [
    {
     "name": "stdout",
     "output_type": "stream",
     "text": [
      "<__main__.MyLock object at 0x000001EDFE20E890>.acquire()\n",
      "critical_section_1\n",
      "<__main__.MyLock object at 0x000001EDFE20E890>.release()\n"
     ]
    }
   ],
   "source": [
    "critical_section_1()"
   ]
  },
  {
   "attachments": {},
   "cell_type": "markdown",
   "metadata": {},
   "source": [
    "## AddId"
   ]
  },
  {
   "cell_type": "code",
   "execution_count": 156,
   "metadata": {},
   "outputs": [],
   "source": [
    "def add_id(decorated_class):\n",
    "    setattr(decorated_class, '__id_gen', 0)\n",
    "    print(f'Adding __id_gen to class {decorated_class.__name__}')\n",
    "    original_init = decorated_class.__init__\n",
    "\n",
    "    def __init__(self, *args, **kwargs):\n",
    "        decorated_class.__id_gen += 1\n",
    "        self.id = decorated_class.__id_gen\n",
    "        print(f'Adding id={self.id} to object {self}')\n",
    "        original_init(self, *args, **kwargs)\n",
    "\n",
    "    decorated_class.__init__ = __init__\n",
    "    return decorated_class"
   ]
  },
  {
   "cell_type": "code",
   "execution_count": 157,
   "metadata": {},
   "outputs": [
    {
     "name": "stdout",
     "output_type": "stream",
     "text": [
      "Adding __id_gen to class Person\n"
     ]
    }
   ],
   "source": [
    "@add_id\n",
    "class Person:\n",
    "    def __init__(self, name):\n",
    "        self.name = name"
   ]
  },
  {
   "cell_type": "code",
   "execution_count": 158,
   "metadata": {},
   "outputs": [
    {
     "name": "stdout",
     "output_type": "stream",
     "text": [
      "Adding id=1 to object <__main__.Person object at 0x000001EDFE8D7990>\n"
     ]
    }
   ],
   "source": [
    "p1 = Person(\"John\")"
   ]
  },
  {
   "cell_type": "code",
   "execution_count": 159,
   "metadata": {},
   "outputs": [
    {
     "data": {
      "text/plain": [
       "1"
      ]
     },
     "execution_count": 159,
     "metadata": {},
     "output_type": "execute_result"
    }
   ],
   "source": [
    "Person.__id_gen"
   ]
  },
  {
   "cell_type": "code",
   "execution_count": 160,
   "metadata": {},
   "outputs": [
    {
     "data": {
      "text/plain": [
       "1"
      ]
     },
     "execution_count": 160,
     "metadata": {},
     "output_type": "execute_result"
    }
   ],
   "source": [
    "p1.id"
   ]
  },
  {
   "cell_type": "code",
   "execution_count": 161,
   "metadata": {},
   "outputs": [
    {
     "name": "stdout",
     "output_type": "stream",
     "text": [
      "Adding id=2 to object <__main__.Person object at 0x000001EDFE8ACA10>\n"
     ]
    }
   ],
   "source": [
    "p2 = Person(\"Ewa\")"
   ]
  },
  {
   "cell_type": "code",
   "execution_count": 162,
   "metadata": {},
   "outputs": [
    {
     "data": {
      "text/plain": [
       "2"
      ]
     },
     "execution_count": 162,
     "metadata": {},
     "output_type": "execute_result"
    }
   ],
   "source": [
    "p2.id"
   ]
  },
  {
   "cell_type": "code",
   "execution_count": 163,
   "metadata": {},
   "outputs": [],
   "source": [
    "class Manager(Person):\n",
    "    def __init__(self, name, rank):\n",
    "        super().__init__(name)\n",
    "        self.rank = rank"
   ]
  },
  {
   "cell_type": "code",
   "execution_count": 164,
   "metadata": {},
   "outputs": [
    {
     "name": "stdout",
     "output_type": "stream",
     "text": [
      "Adding id=3 to object <__main__.Manager object at 0x000001EDFE80E310>\n"
     ]
    }
   ],
   "source": [
    "m1 = Manager(\"Jim\", 10)"
   ]
  },
  {
   "cell_type": "code",
   "execution_count": 165,
   "metadata": {},
   "outputs": [
    {
     "name": "stdout",
     "output_type": "stream",
     "text": [
      "Adding id=4 to object <__main__.Manager object at 0x000001EDFE866290>\n"
     ]
    }
   ],
   "source": [
    "m2 = Manager(\"Ola\", 10)"
   ]
  },
  {
   "cell_type": "code",
   "execution_count": null,
   "metadata": {},
   "outputs": [],
   "source": []
  }
 ],
 "metadata": {
  "kernelspec": {
   "display_name": ".venv",
   "language": "python",
   "name": "python3"
  },
  "language_info": {
   "codemirror_mode": {
    "name": "ipython",
    "version": 3
   },
   "file_extension": ".py",
   "mimetype": "text/x-python",
   "name": "python",
   "nbconvert_exporter": "python",
   "pygments_lexer": "ipython3",
   "version": "3.11.2"
  },
  "orig_nbformat": 4
 },
 "nbformat": 4,
 "nbformat_minor": 2
}
