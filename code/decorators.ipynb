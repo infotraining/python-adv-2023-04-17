{
 "cells": [
  {
   "attachments": {},
   "cell_type": "markdown",
   "metadata": {},
   "source": [
    "# Dekoratory"
   ]
  },
  {
   "cell_type": "code",
   "execution_count": 37,
   "metadata": {},
   "outputs": [],
   "source": [
    "import functools\n",
    "\n",
    "def shouter(func):\n",
    "    @functools.wraps(func)\n",
    "    def wrapper(*args, **kwargs):\n",
    "        print('Before call ---- ', func.__name__)\n",
    "        result = func(*args, **kwargs)\n",
    "        print('After call ---- ', func.__name__)\n",
    "        return result\n",
    "    \n",
    "    wrapper.__name__ = wrapper.__name__ + \"_decorated\"\n",
    "    return wrapper"
   ]
  },
  {
   "cell_type": "code",
   "execution_count": 40,
   "metadata": {},
   "outputs": [],
   "source": [
    "@shouter\n",
    "def foo():\n",
    "    \"\"\"foo functions\"\"\"\n",
    "    print('foo()')\n",
    "    return \"foo_42\""
   ]
  },
  {
   "cell_type": "code",
   "execution_count": 41,
   "metadata": {},
   "outputs": [
    {
     "data": {
      "text/plain": [
       "'foo_decorated'"
      ]
     },
     "execution_count": 41,
     "metadata": {},
     "output_type": "execute_result"
    }
   ],
   "source": [
    "foo.__name__"
   ]
  },
  {
   "cell_type": "code",
   "execution_count": 33,
   "metadata": {},
   "outputs": [
    {
     "data": {
      "text/plain": [
       "'foo functions'"
      ]
     },
     "execution_count": 33,
     "metadata": {},
     "output_type": "execute_result"
    }
   ],
   "source": [
    "foo.__doc__"
   ]
  },
  {
   "cell_type": "code",
   "execution_count": 19,
   "metadata": {},
   "outputs": [
    {
     "name": "stdout",
     "output_type": "stream",
     "text": [
      "Before call ----  wrapper\n",
      "Before call ----  foo\n",
      "foo()\n",
      "After call ----  foo\n",
      "After call ----  wrapper\n"
     ]
    },
    {
     "data": {
      "text/plain": [
       "'foo_42'"
      ]
     },
     "execution_count": 19,
     "metadata": {},
     "output_type": "execute_result"
    }
   ],
   "source": [
    "foo()"
   ]
  },
  {
   "cell_type": "code",
   "execution_count": 20,
   "metadata": {},
   "outputs": [],
   "source": [
    "foo = shouter(foo)"
   ]
  },
  {
   "cell_type": "code",
   "execution_count": 23,
   "metadata": {},
   "outputs": [],
   "source": [
    "from typing import Callable\n",
    "from typing import Any\n",
    "\n",
    "\n",
    "def disable(func: Callable[..., Any]) -> Callable[..., Any | None]:\n",
    "    @functools.wraps(func)\n",
    "    def _disable(*args, **kwargs):\n",
    "        pass\n",
    "    return _disable\n",
    "\n",
    "@shouter\n",
    "def bar(n):\n",
    "    print(f\"bar({n})\")"
   ]
  },
  {
   "cell_type": "code",
   "execution_count": 24,
   "metadata": {},
   "outputs": [],
   "source": [
    "bar(13)"
   ]
  },
  {
   "attachments": {},
   "cell_type": "markdown",
   "metadata": {},
   "source": [
    "# Dekoratory z parametrami"
   ]
  },
  {
   "cell_type": "code",
   "execution_count": 44,
   "metadata": {},
   "outputs": [],
   "source": [
    "def tag(tagname):\n",
    "    def tag_decorator(func):\n",
    "        @functools.wraps(func)\n",
    "        def _tag_decorator(*args, **kwargs):\n",
    "            tag_before = f\"<{tagname}>\"\n",
    "            tag_after = f\"</{tagname}>\"\n",
    "            return tag_before + func(*args, **kwargs) + tag_after\n",
    "        return _tag_decorator\n",
    "    return tag_decorator        \n",
    "\n",
    "@tag(\"h1\")\n",
    "@tag(\"b\")\n",
    "def output(data):\n",
    "    return data"
   ]
  },
  {
   "cell_type": "code",
   "execution_count": 45,
   "metadata": {},
   "outputs": [
    {
     "data": {
      "text/plain": [
       "'<h1><b>Text</b></h1>'"
      ]
     },
     "execution_count": 45,
     "metadata": {},
     "output_type": "execute_result"
    }
   ],
   "source": [
    "output(\"Text\")"
   ]
  },
  {
   "cell_type": "code",
   "execution_count": null,
   "metadata": {},
   "outputs": [],
   "source": []
  }
 ],
 "metadata": {
  "kernelspec": {
   "display_name": ".venv",
   "language": "python",
   "name": "python3"
  },
  "language_info": {
   "codemirror_mode": {
    "name": "ipython",
    "version": 3
   },
   "file_extension": ".py",
   "mimetype": "text/x-python",
   "name": "python",
   "nbconvert_exporter": "python",
   "pygments_lexer": "ipython3",
   "version": "3.11.2"
  },
  "orig_nbformat": 4
 },
 "nbformat": 4,
 "nbformat_minor": 2
}
